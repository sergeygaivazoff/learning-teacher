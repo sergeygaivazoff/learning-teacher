{
 "cells": [
  {
   "cell_type": "markdown",
   "metadata": {
    "toc": true
   },
   "source": [
    "<h1>Содержание<span class=\"tocSkip\"></span></h1>\n",
    "<div class=\"toc\"><ul class=\"toc-item\"><li><span><a href=\"#Подготовка-данных\" data-toc-modified-id=\"Подготовка-данных-1\"><span class=\"toc-item-num\">1&nbsp;&nbsp;</span>Подготовка данных</a></span></li><li><span><a href=\"#Исследование-задачи\" data-toc-modified-id=\"Исследование-задачи-2\"><span class=\"toc-item-num\">2&nbsp;&nbsp;</span>Исследование задачи</a></span></li><li><span><a href=\"#Борьба-с-дисбалансом\" data-toc-modified-id=\"Борьба-с-дисбалансом-3\"><span class=\"toc-item-num\">3&nbsp;&nbsp;</span>Борьба с дисбалансом</a></span></li><li><span><a href=\"#Тестирование-модели\" data-toc-modified-id=\"Тестирование-модели-4\"><span class=\"toc-item-num\">4&nbsp;&nbsp;</span>Тестирование модели</a></span></li><li><span><a href=\"#Вывод\" data-toc-modified-id=\"Вывод-5\"><span class=\"toc-item-num\">5&nbsp;&nbsp;</span>Вывод</a></span></li><li><span><a href=\"#Чек-лист-готовности-проекта\" data-toc-modified-id=\"Чек-лист-готовности-проекта-6\"><span class=\"toc-item-num\">6&nbsp;&nbsp;</span>Чек-лист готовности проекта</a></span></li></ul></div>"
   ]
  },
  {
   "cell_type": "markdown",
   "metadata": {},
   "source": [
    "# Отток клиентов"
   ]
  },
  {
   "cell_type": "markdown",
   "metadata": {},
   "source": [
    "Из «Бета-Банка» стали уходить клиенты. Каждый месяц. Немного, но заметно. Банковские маркетологи посчитали: сохранять текущих клиентов дешевле, чем привлекать новых.\n",
    "\n",
    "Нужно спрогнозировать, уйдёт клиент из банка в ближайшее время или нет. Вам предоставлены исторические данные о поведении клиентов и расторжении договоров с банком. \n",
    "\n",
    "Постройте модель с предельно большим значением *F1*-меры. Чтобы сдать проект успешно, нужно довести метрику до 0.59. Проверьте *F1*-меру на тестовой выборке самостоятельно.\n",
    "\n",
    "Дополнительно измеряйте *AUC-ROC*, сравнивайте её значение с *F1*-мерой.\n",
    "\n",
    "Источник данных: [https://www.kaggle.com/barelydedicated/bank-customer-churn-modeling](https://www.kaggle.com/barelydedicated/bank-customer-churn-modeling)"
   ]
  },
  {
   "cell_type": "markdown",
   "metadata": {},
   "source": [
    "## Подготовка данных"
   ]
  },
  {
   "cell_type": "code",
   "execution_count": 38,
   "metadata": {},
   "outputs": [],
   "source": [
    "# импортируем библиотеки\n",
    "import pandas as pd\n",
    "import numpy as np\n",
    "import matplotlib.pyplot as plt\n",
    "from sklearn.metrics import accuracy_score\n",
    "from sklearn.metrics import f1_score\n",
    "from sklearn.metrics import roc_curve \n",
    "from sklearn.metrics import precision_score, recall_score\n",
    "from sklearn.metrics import roc_auc_score\n",
    "from sklearn.utils import shuffle\n",
    "from sklearn.model_selection import train_test_split\n",
    "from sklearn.model_selection import GridSearchCV\n",
    "from sklearn.preprocessing import StandardScaler\n",
    "from sklearn.tree import DecisionTreeClassifier\n",
    "from sklearn.linear_model import LogisticRegression\n",
    "from sklearn.ensemble import RandomForestClassifier "
   ]
  },
  {
   "cell_type": "code",
   "execution_count": 2,
   "metadata": {},
   "outputs": [],
   "source": [
    "# выгружаем датасет в переменную data\n",
    "data = pd.read_csv('https://code.s3.yandex.net/datasets/Churn.csv')"
   ]
  },
  {
   "cell_type": "code",
   "execution_count": 3,
   "metadata": {},
   "outputs": [
    {
     "name": "stdout",
     "output_type": "stream",
     "text": [
      "<class 'pandas.core.frame.DataFrame'>\n",
      "RangeIndex: 10000 entries, 0 to 9999\n",
      "Data columns (total 14 columns):\n",
      " #   Column           Non-Null Count  Dtype  \n",
      "---  ------           --------------  -----  \n",
      " 0   RowNumber        10000 non-null  int64  \n",
      " 1   CustomerId       10000 non-null  int64  \n",
      " 2   Surname          10000 non-null  object \n",
      " 3   CreditScore      10000 non-null  int64  \n",
      " 4   Geography        10000 non-null  object \n",
      " 5   Gender           10000 non-null  object \n",
      " 6   Age              10000 non-null  int64  \n",
      " 7   Tenure           9091 non-null   float64\n",
      " 8   Balance          10000 non-null  float64\n",
      " 9   NumOfProducts    10000 non-null  int64  \n",
      " 10  HasCrCard        10000 non-null  int64  \n",
      " 11  IsActiveMember   10000 non-null  int64  \n",
      " 12  EstimatedSalary  10000 non-null  float64\n",
      " 13  Exited           10000 non-null  int64  \n",
      "dtypes: float64(3), int64(8), object(3)\n",
      "memory usage: 1.1+ MB\n"
     ]
    },
    {
     "data": {
      "text/html": [
       "<div>\n",
       "<style scoped>\n",
       "    .dataframe tbody tr th:only-of-type {\n",
       "        vertical-align: middle;\n",
       "    }\n",
       "\n",
       "    .dataframe tbody tr th {\n",
       "        vertical-align: top;\n",
       "    }\n",
       "\n",
       "    .dataframe thead th {\n",
       "        text-align: right;\n",
       "    }\n",
       "</style>\n",
       "<table border=\"1\" class=\"dataframe\">\n",
       "  <thead>\n",
       "    <tr style=\"text-align: right;\">\n",
       "      <th></th>\n",
       "      <th>RowNumber</th>\n",
       "      <th>CustomerId</th>\n",
       "      <th>Surname</th>\n",
       "      <th>CreditScore</th>\n",
       "      <th>Geography</th>\n",
       "      <th>Gender</th>\n",
       "      <th>Age</th>\n",
       "      <th>Tenure</th>\n",
       "      <th>Balance</th>\n",
       "      <th>NumOfProducts</th>\n",
       "      <th>HasCrCard</th>\n",
       "      <th>IsActiveMember</th>\n",
       "      <th>EstimatedSalary</th>\n",
       "      <th>Exited</th>\n",
       "    </tr>\n",
       "  </thead>\n",
       "  <tbody>\n",
       "    <tr>\n",
       "      <th>0</th>\n",
       "      <td>1</td>\n",
       "      <td>15634602</td>\n",
       "      <td>Hargrave</td>\n",
       "      <td>619</td>\n",
       "      <td>France</td>\n",
       "      <td>Female</td>\n",
       "      <td>42</td>\n",
       "      <td>2.0</td>\n",
       "      <td>0.00</td>\n",
       "      <td>1</td>\n",
       "      <td>1</td>\n",
       "      <td>1</td>\n",
       "      <td>101348.88</td>\n",
       "      <td>1</td>\n",
       "    </tr>\n",
       "    <tr>\n",
       "      <th>1</th>\n",
       "      <td>2</td>\n",
       "      <td>15647311</td>\n",
       "      <td>Hill</td>\n",
       "      <td>608</td>\n",
       "      <td>Spain</td>\n",
       "      <td>Female</td>\n",
       "      <td>41</td>\n",
       "      <td>1.0</td>\n",
       "      <td>83807.86</td>\n",
       "      <td>1</td>\n",
       "      <td>0</td>\n",
       "      <td>1</td>\n",
       "      <td>112542.58</td>\n",
       "      <td>0</td>\n",
       "    </tr>\n",
       "    <tr>\n",
       "      <th>2</th>\n",
       "      <td>3</td>\n",
       "      <td>15619304</td>\n",
       "      <td>Onio</td>\n",
       "      <td>502</td>\n",
       "      <td>France</td>\n",
       "      <td>Female</td>\n",
       "      <td>42</td>\n",
       "      <td>8.0</td>\n",
       "      <td>159660.80</td>\n",
       "      <td>3</td>\n",
       "      <td>1</td>\n",
       "      <td>0</td>\n",
       "      <td>113931.57</td>\n",
       "      <td>1</td>\n",
       "    </tr>\n",
       "    <tr>\n",
       "      <th>3</th>\n",
       "      <td>4</td>\n",
       "      <td>15701354</td>\n",
       "      <td>Boni</td>\n",
       "      <td>699</td>\n",
       "      <td>France</td>\n",
       "      <td>Female</td>\n",
       "      <td>39</td>\n",
       "      <td>1.0</td>\n",
       "      <td>0.00</td>\n",
       "      <td>2</td>\n",
       "      <td>0</td>\n",
       "      <td>0</td>\n",
       "      <td>93826.63</td>\n",
       "      <td>0</td>\n",
       "    </tr>\n",
       "    <tr>\n",
       "      <th>4</th>\n",
       "      <td>5</td>\n",
       "      <td>15737888</td>\n",
       "      <td>Mitchell</td>\n",
       "      <td>850</td>\n",
       "      <td>Spain</td>\n",
       "      <td>Female</td>\n",
       "      <td>43</td>\n",
       "      <td>2.0</td>\n",
       "      <td>125510.82</td>\n",
       "      <td>1</td>\n",
       "      <td>1</td>\n",
       "      <td>1</td>\n",
       "      <td>79084.10</td>\n",
       "      <td>0</td>\n",
       "    </tr>\n",
       "  </tbody>\n",
       "</table>\n",
       "</div>"
      ],
      "text/plain": [
       "   RowNumber  CustomerId   Surname  CreditScore Geography  Gender  Age  \\\n",
       "0          1    15634602  Hargrave          619    France  Female   42   \n",
       "1          2    15647311      Hill          608     Spain  Female   41   \n",
       "2          3    15619304      Onio          502    France  Female   42   \n",
       "3          4    15701354      Boni          699    France  Female   39   \n",
       "4          5    15737888  Mitchell          850     Spain  Female   43   \n",
       "\n",
       "   Tenure    Balance  NumOfProducts  HasCrCard  IsActiveMember  \\\n",
       "0     2.0       0.00              1          1               1   \n",
       "1     1.0   83807.86              1          0               1   \n",
       "2     8.0  159660.80              3          1               0   \n",
       "3     1.0       0.00              2          0               0   \n",
       "4     2.0  125510.82              1          1               1   \n",
       "\n",
       "   EstimatedSalary  Exited  \n",
       "0        101348.88       1  \n",
       "1        112542.58       0  \n",
       "2        113931.57       1  \n",
       "3         93826.63       0  \n",
       "4         79084.10       0  "
      ]
     },
     "execution_count": 3,
     "metadata": {},
     "output_type": "execute_result"
    }
   ],
   "source": [
    "# выведем общую информацию о датасете и первые 5 строк таблицы\n",
    "data.info()\n",
    "data.head()"
   ]
  },
  {
   "cell_type": "markdown",
   "metadata": {},
   "source": [
    "Признаки   \n",
    "**RowNumber** — индекс строки в данных  \n",
    "**CustomerId** — уникальный идентификатор клиента  \n",
    "**Surname** — фамилия  \n",
    "**CreditScore** — кредитный рейтинг  \n",
    "**Geography** — страна проживания  \n",
    "**Gender** — пол  \n",
    "**Age** — возраст  \n",
    "**Tenure** — сколько лет человек является клиентом банка  \n",
    "**Balance** — баланс на счёте  \n",
    "**NumOfProducts** — количество продуктов банка, используемых клиентом  \n",
    "**HasCrCard** — наличие кредитной карты  \n",
    "**IsActiveMember** — активность клиента  \n",
    "**EstimatedSalary** — предполагаемая зарплата  \n",
    "\n",
    "Целевой признак  \n",
    "**Exited** — факт ухода клиента  "
   ]
  },
  {
   "cell_type": "markdown",
   "id": "f3e414a0",
   "metadata": {},
   "source": [
    "Только в столбце Tenure (\"сколько лет человек является клиентом банка\") есть пропуски, выведем уникальные значения этого столбца."
   ]
  },
  {
   "cell_type": "code",
   "execution_count": 4,
   "id": "5971d845",
   "metadata": {},
   "outputs": [
    {
     "data": {
      "text/plain": [
       "array([ 2.,  1.,  8.,  7.,  4.,  6.,  3., 10.,  5.,  9.,  0., nan])"
      ]
     },
     "execution_count": 4,
     "metadata": {},
     "output_type": "execute_result"
    }
   ],
   "source": [
    "data['Tenure'].unique()"
   ]
  },
  {
   "cell_type": "code",
   "execution_count": 5,
   "id": "65b9473e",
   "metadata": {},
   "outputs": [
    {
     "data": {
      "text/html": [
       "<div>\n",
       "<style scoped>\n",
       "    .dataframe tbody tr th:only-of-type {\n",
       "        vertical-align: middle;\n",
       "    }\n",
       "\n",
       "    .dataframe tbody tr th {\n",
       "        vertical-align: top;\n",
       "    }\n",
       "\n",
       "    .dataframe thead th {\n",
       "        text-align: right;\n",
       "    }\n",
       "</style>\n",
       "<table border=\"1\" class=\"dataframe\">\n",
       "  <thead>\n",
       "    <tr style=\"text-align: right;\">\n",
       "      <th></th>\n",
       "      <th>RowNumber</th>\n",
       "      <th>CustomerId</th>\n",
       "      <th>Surname</th>\n",
       "      <th>CreditScore</th>\n",
       "      <th>Geography</th>\n",
       "      <th>Gender</th>\n",
       "      <th>Age</th>\n",
       "      <th>Tenure</th>\n",
       "      <th>Balance</th>\n",
       "      <th>NumOfProducts</th>\n",
       "      <th>HasCrCard</th>\n",
       "      <th>IsActiveMember</th>\n",
       "      <th>EstimatedSalary</th>\n",
       "      <th>Exited</th>\n",
       "    </tr>\n",
       "  </thead>\n",
       "  <tbody>\n",
       "    <tr>\n",
       "      <th>30</th>\n",
       "      <td>31</td>\n",
       "      <td>15589475</td>\n",
       "      <td>Azikiwe</td>\n",
       "      <td>591</td>\n",
       "      <td>Spain</td>\n",
       "      <td>Female</td>\n",
       "      <td>39</td>\n",
       "      <td>NaN</td>\n",
       "      <td>0.00</td>\n",
       "      <td>3</td>\n",
       "      <td>1</td>\n",
       "      <td>0</td>\n",
       "      <td>140469.38</td>\n",
       "      <td>1</td>\n",
       "    </tr>\n",
       "    <tr>\n",
       "      <th>48</th>\n",
       "      <td>49</td>\n",
       "      <td>15766205</td>\n",
       "      <td>Yin</td>\n",
       "      <td>550</td>\n",
       "      <td>Germany</td>\n",
       "      <td>Male</td>\n",
       "      <td>38</td>\n",
       "      <td>NaN</td>\n",
       "      <td>103391.38</td>\n",
       "      <td>1</td>\n",
       "      <td>0</td>\n",
       "      <td>1</td>\n",
       "      <td>90878.13</td>\n",
       "      <td>0</td>\n",
       "    </tr>\n",
       "    <tr>\n",
       "      <th>51</th>\n",
       "      <td>52</td>\n",
       "      <td>15768193</td>\n",
       "      <td>Trevisani</td>\n",
       "      <td>585</td>\n",
       "      <td>Germany</td>\n",
       "      <td>Male</td>\n",
       "      <td>36</td>\n",
       "      <td>NaN</td>\n",
       "      <td>146050.97</td>\n",
       "      <td>2</td>\n",
       "      <td>0</td>\n",
       "      <td>0</td>\n",
       "      <td>86424.57</td>\n",
       "      <td>0</td>\n",
       "    </tr>\n",
       "    <tr>\n",
       "      <th>53</th>\n",
       "      <td>54</td>\n",
       "      <td>15702298</td>\n",
       "      <td>Parkhill</td>\n",
       "      <td>655</td>\n",
       "      <td>Germany</td>\n",
       "      <td>Male</td>\n",
       "      <td>41</td>\n",
       "      <td>NaN</td>\n",
       "      <td>125561.97</td>\n",
       "      <td>1</td>\n",
       "      <td>0</td>\n",
       "      <td>0</td>\n",
       "      <td>164040.94</td>\n",
       "      <td>1</td>\n",
       "    </tr>\n",
       "    <tr>\n",
       "      <th>60</th>\n",
       "      <td>61</td>\n",
       "      <td>15651280</td>\n",
       "      <td>Hunter</td>\n",
       "      <td>742</td>\n",
       "      <td>Germany</td>\n",
       "      <td>Male</td>\n",
       "      <td>35</td>\n",
       "      <td>NaN</td>\n",
       "      <td>136857.00</td>\n",
       "      <td>1</td>\n",
       "      <td>0</td>\n",
       "      <td>0</td>\n",
       "      <td>84509.57</td>\n",
       "      <td>0</td>\n",
       "    </tr>\n",
       "  </tbody>\n",
       "</table>\n",
       "</div>"
      ],
      "text/plain": [
       "    RowNumber  CustomerId    Surname  CreditScore Geography  Gender  Age  \\\n",
       "30         31    15589475    Azikiwe          591     Spain  Female   39   \n",
       "48         49    15766205        Yin          550   Germany    Male   38   \n",
       "51         52    15768193  Trevisani          585   Germany    Male   36   \n",
       "53         54    15702298   Parkhill          655   Germany    Male   41   \n",
       "60         61    15651280     Hunter          742   Germany    Male   35   \n",
       "\n",
       "    Tenure    Balance  NumOfProducts  HasCrCard  IsActiveMember  \\\n",
       "30     NaN       0.00              3          1               0   \n",
       "48     NaN  103391.38              1          0               1   \n",
       "51     NaN  146050.97              2          0               0   \n",
       "53     NaN  125561.97              1          0               0   \n",
       "60     NaN  136857.00              1          0               0   \n",
       "\n",
       "    EstimatedSalary  Exited  \n",
       "30        140469.38       1  \n",
       "48         90878.13       0  \n",
       "51         86424.57       0  \n",
       "53        164040.94       1  \n",
       "60         84509.57       0  "
      ]
     },
     "execution_count": 5,
     "metadata": {},
     "output_type": "execute_result"
    }
   ],
   "source": [
    "data[data['Tenure'].isna()].head()"
   ]
  },
  {
   "cell_type": "markdown",
   "id": "545ba4ef",
   "metadata": {},
   "source": [
    "Учитывая, что в столбце Tenure присутствуют различные значения от 0 до 10, то логичным будет заменить пропуски на среднее значение по столбцу."
   ]
  },
  {
   "cell_type": "code",
   "execution_count": 6,
   "id": "b38ae19a",
   "metadata": {},
   "outputs": [],
   "source": [
    "data['Tenure'] = data['Tenure'].fillna(data['Tenure'].mean()).apply(np.ceil)"
   ]
  },
  {
   "cell_type": "code",
   "execution_count": 7,
   "id": "87681043",
   "metadata": {
    "scrolled": false
   },
   "outputs": [
    {
     "name": "stdout",
     "output_type": "stream",
     "text": [
      "<class 'pandas.core.frame.DataFrame'>\n",
      "RangeIndex: 10000 entries, 0 to 9999\n",
      "Data columns (total 14 columns):\n",
      " #   Column           Non-Null Count  Dtype  \n",
      "---  ------           --------------  -----  \n",
      " 0   RowNumber        10000 non-null  int64  \n",
      " 1   CustomerId       10000 non-null  int64  \n",
      " 2   Surname          10000 non-null  object \n",
      " 3   CreditScore      10000 non-null  int64  \n",
      " 4   Geography        10000 non-null  object \n",
      " 5   Gender           10000 non-null  object \n",
      " 6   Age              10000 non-null  int64  \n",
      " 7   Tenure           10000 non-null  float64\n",
      " 8   Balance          10000 non-null  float64\n",
      " 9   NumOfProducts    10000 non-null  int64  \n",
      " 10  HasCrCard        10000 non-null  int64  \n",
      " 11  IsActiveMember   10000 non-null  int64  \n",
      " 12  EstimatedSalary  10000 non-null  float64\n",
      " 13  Exited           10000 non-null  int64  \n",
      "dtypes: float64(3), int64(8), object(3)\n",
      "memory usage: 1.1+ MB\n"
     ]
    }
   ],
   "source": [
    "# проверим результат заполнения пропусков\n",
    "data.info()"
   ]
  },
  {
   "cell_type": "markdown",
   "id": "43a42f95",
   "metadata": {},
   "source": [
    "Успешно избавились от пропусков.\n",
    "Все типы данных по столбцам выглядят логичными."
   ]
  },
  {
   "cell_type": "markdown",
   "id": "c9b82977",
   "metadata": {},
   "source": [
    "Подготовим данные для анализа. Преобразуем категориальные данные в численные с помощью техники прямого кодирования, избежав дамми-ловушки.\n",
    "Затем разделим таблицу на признаки и целевой признак, а далее разобьём выборки на обучающую, валидационную и тестовую."
   ]
  },
  {
   "cell_type": "code",
   "execution_count": 8,
   "id": "3637f763",
   "metadata": {},
   "outputs": [],
   "source": [
    "data_ohe = pd.get_dummies(data, drop_first=True)"
   ]
  },
  {
   "cell_type": "code",
   "execution_count": 9,
   "id": "cb6ddba9",
   "metadata": {},
   "outputs": [],
   "source": [
    "target = data_ohe['Exited']\n",
    "features = data_ohe.drop('Exited', axis=1)"
   ]
  },
  {
   "cell_type": "code",
   "execution_count": 10,
   "id": "b1933d5b",
   "metadata": {},
   "outputs": [],
   "source": [
    "features_train, features_valid, target_train, target_valid = train_test_split(\n",
    "    features, target, random_state=12345, test_size=0.4, stratify = target)"
   ]
  },
  {
   "cell_type": "code",
   "execution_count": 11,
   "id": "f95aec37",
   "metadata": {},
   "outputs": [],
   "source": [
    "features_valid, features_test, target_valid, target_test = train_test_split(\n",
    "    features_valid, target_valid, random_state=12345, test_size=0.5, stratify = target_valid)"
   ]
  },
  {
   "cell_type": "code",
   "execution_count": 12,
   "id": "87fe9939",
   "metadata": {
    "scrolled": false
   },
   "outputs": [
    {
     "name": "stdout",
     "output_type": "stream",
     "text": [
      "(6000, 2944)\n",
      "(2000, 2944)\n",
      "(2000, 2944)\n",
      "(6000,)\n",
      "(2000,)\n",
      "(2000,)\n"
     ]
    }
   ],
   "source": [
    "# проверим выборки\n",
    "print(features_train.shape)\n",
    "print(features_valid.shape)\n",
    "print(features_test.shape)\n",
    "print(target_train.shape)\n",
    "print(target_valid.shape)\n",
    "print(target_test.shape)"
   ]
  },
  {
   "cell_type": "markdown",
   "id": "a9b6479d",
   "metadata": {},
   "source": [
    "Мы подготовили данные для дальнейшего исследования, можно переходить к обучению моделей."
   ]
  },
  {
   "cell_type": "markdown",
   "metadata": {},
   "source": [
    "## Исследование задачи"
   ]
  },
  {
   "cell_type": "markdown",
   "metadata": {},
   "source": [
    "Попробуем обучить модель по имеющимся данным.   \n",
    "Обучим модели алгоритмами Дерево решений, Логистической регрессии и Случайный лес и выведем метрики точности и полноты."
   ]
  },
  {
   "cell_type": "code",
   "execution_count": 13,
   "id": "42f2b716",
   "metadata": {},
   "outputs": [
    {
     "name": "stdout",
     "output_type": "stream",
     "text": [
      "Точность 0.5684210526315789\n",
      "Полнота 0.5294117647058824\n"
     ]
    }
   ],
   "source": [
    "model = DecisionTreeClassifier(random_state=12345) \n",
    "model.fit(features_train, target_train)\n",
    "predicted_valid = model.predict(features_valid)\n",
    "print('Точность', precision_score(target_valid, predicted_valid))\n",
    "print('Полнота', recall_score(target_valid, predicted_valid))"
   ]
  },
  {
   "cell_type": "code",
   "execution_count": 14,
   "id": "1da430be",
   "metadata": {},
   "outputs": [
    {
     "name": "stdout",
     "output_type": "stream",
     "text": [
      "Точность 0.0\n",
      "Полнота 0.0\n"
     ]
    },
    {
     "name": "stderr",
     "output_type": "stream",
     "text": [
      "C:\\Users\\user\\anaconda3\\lib\\site-packages\\sklearn\\metrics\\_classification.py:1318: UndefinedMetricWarning: Precision is ill-defined and being set to 0.0 due to no predicted samples. Use `zero_division` parameter to control this behavior.\n",
      "  _warn_prf(average, modifier, msg_start, len(result))\n"
     ]
    }
   ],
   "source": [
    "model = LogisticRegression(solver='liblinear', random_state=12345) \n",
    "model.fit(features_train, target_train)\n",
    "predicted_valid = model.predict(features_valid)\n",
    "print('Точность', precision_score(target_valid, predicted_valid))\n",
    "print('Полнота', recall_score(target_valid, predicted_valid))"
   ]
  },
  {
   "cell_type": "code",
   "execution_count": 15,
   "id": "00ecbccd",
   "metadata": {},
   "outputs": [
    {
     "name": "stdout",
     "output_type": "stream",
     "text": [
      "Точность 0.8486486486486486\n",
      "Полнота 0.38480392156862747\n"
     ]
    }
   ],
   "source": [
    "model = RandomForestClassifier(random_state=12345)\n",
    "model.fit(features_train, target_train)\n",
    "predicted_valid = model.predict(features_valid)\n",
    "print('Точность', precision_score(target_valid, predicted_valid))\n",
    "print('Полнота', recall_score(target_valid, predicted_valid))"
   ]
  },
  {
   "cell_type": "markdown",
   "id": "ab58631d",
   "metadata": {},
   "source": [
    "Лучшие значения, ожидаемо, показал Случайный лес. Но мы проделали весь путь обучения на данных с дисбалансом классов.\n",
    "Проверим f1-метрику."
   ]
  },
  {
   "cell_type": "code",
   "execution_count": 16,
   "metadata": {},
   "outputs": [
    {
     "name": "stdout",
     "output_type": "stream",
     "text": [
      "F1: 0.5482233502538072\n"
     ]
    }
   ],
   "source": [
    "model = DecisionTreeClassifier(random_state=12345) \n",
    "model.fit(features_train, target_train)\n",
    "predicted_valid = model.predict(features_valid)\n",
    "print(\"F1:\", f1_score(target_valid, predicted_valid))"
   ]
  },
  {
   "cell_type": "code",
   "execution_count": 17,
   "metadata": {},
   "outputs": [
    {
     "name": "stdout",
     "output_type": "stream",
     "text": [
      "F1: 0.0\n"
     ]
    }
   ],
   "source": [
    "model = LogisticRegression(solver='liblinear', random_state=12345) \n",
    "model.fit(features_train, target_train)\n",
    "predicted_valid = model.predict(features_valid)\n",
    "print(\"F1:\", f1_score(target_valid, predicted_valid))"
   ]
  },
  {
   "cell_type": "code",
   "execution_count": 18,
   "metadata": {
    "scrolled": true
   },
   "outputs": [
    {
     "name": "stdout",
     "output_type": "stream",
     "text": [
      "F1: 0.49220103986135183\n"
     ]
    }
   ],
   "source": [
    "model = RandomForestClassifier(random_state=12345, class_weight='balanced')\n",
    "model.fit(features_train, target_train)\n",
    "predicted_valid = model.predict(features_valid)\n",
    "print(\"F1:\", f1_score(target_valid, predicted_valid))"
   ]
  },
  {
   "cell_type": "markdown",
   "metadata": {},
   "source": [
    "На несбалансированных данных f1-мера не дотягивает даже до 0,55.\n",
    "Необходимо выровнять и стандартизировать классы и добиться более высокой метрики."
   ]
  },
  {
   "cell_type": "markdown",
   "metadata": {},
   "source": [
    "## Борьба с дисбалансом"
   ]
  },
  {
   "cell_type": "markdown",
   "id": "a9b6479d",
   "metadata": {},
   "source": [
    "Стандартизируем данные для лучшего обучения модели."
   ]
  },
  {
   "cell_type": "code",
   "execution_count": 19,
   "id": "ee92c271",
   "metadata": {},
   "outputs": [],
   "source": [
    "# зададим переменную со списком всех численных признаков.\n",
    "numeric = ['RowNumber', 'CustomerId', 'CreditScore', 'Age', 'Tenure', 'Balance', 'NumOfProducts', 'EstimatedSalary']"
   ]
  },
  {
   "cell_type": "code",
   "execution_count": 20,
   "id": "2bf64d3b",
   "metadata": {},
   "outputs": [],
   "source": [
    "# Создадим объект стандартизации и настроим его на обучающих данных\n",
    "scaler = StandardScaler()"
   ]
  },
  {
   "cell_type": "code",
   "execution_count": 21,
   "id": "192ce462",
   "metadata": {},
   "outputs": [
    {
     "data": {
      "text/plain": [
       "StandardScaler()"
      ]
     },
     "execution_count": 21,
     "metadata": {},
     "output_type": "execute_result"
    }
   ],
   "source": [
    "scaler.fit(features_train[numeric])"
   ]
  },
  {
   "cell_type": "code",
   "execution_count": 22,
   "metadata": {
    "scrolled": true
   },
   "outputs": [],
   "source": [
    "# преобразуем выборки функцией transform()\n",
    "pd.options.mode.chained_assignment = None\n",
    "features_train[numeric] = scaler.transform(features_train[numeric])\n",
    "features_valid[numeric] = scaler.transform(features_valid[numeric])\n",
    "features_test[numeric] = scaler.transform(features_test[numeric]) "
   ]
  },
  {
   "cell_type": "markdown",
   "metadata": {},
   "source": [
    "Выполним взвешиванеи классов и расчитаем метрику f1."
   ]
  },
  {
   "cell_type": "code",
   "execution_count": 23,
   "metadata": {},
   "outputs": [
    {
     "name": "stdout",
     "output_type": "stream",
     "text": [
      "F1: 0.49045801526717553\n"
     ]
    }
   ],
   "source": [
    "model = LogisticRegression(solver='liblinear', random_state=12345, class_weight='balanced') \n",
    "model.fit(features_train, target_train)\n",
    "predicted_valid = model.predict(features_valid)\n",
    "print(\"F1:\", f1_score(target_valid, predicted_valid))"
   ]
  },
  {
   "cell_type": "code",
   "execution_count": 24,
   "id": "331758a6",
   "metadata": {},
   "outputs": [
    {
     "name": "stdout",
     "output_type": "stream",
     "text": [
      "F1: 0.5690072639225181\n"
     ]
    }
   ],
   "source": [
    "model = DecisionTreeClassifier(random_state=12345, class_weight='balanced')\n",
    "model.fit(features_train, target_train)\n",
    "predicted_valid = model.predict(features_valid)\n",
    "print(\"F1:\", f1_score(target_valid, predicted_valid))"
   ]
  },
  {
   "cell_type": "code",
   "execution_count": 25,
   "id": "fff91177",
   "metadata": {},
   "outputs": [
    {
     "name": "stdout",
     "output_type": "stream",
     "text": [
      "F1: 0.4905008635578583\n"
     ]
    }
   ],
   "source": [
    "model = RandomForestClassifier(random_state=12345, class_weight='balanced')\n",
    "model.fit(features_train, target_train)\n",
    "predicted_valid = model.predict(features_valid)\n",
    "print(\"F1:\", f1_score(target_valid, predicted_valid))"
   ]
  },
  {
   "cell_type": "markdown",
   "metadata": {},
   "source": [
    "Значения мерики F1 невысокие. Попробуем изменить размер выборки, а также изменим гиперпараметры. И параллельно будет рассчитывать метрику ROC-AUC."
   ]
  },
  {
   "cell_type": "code",
   "execution_count": 26,
   "metadata": {
    "scrolled": true
   },
   "outputs": [
    {
     "data": {
      "text/plain": [
       "0    0.7963\n",
       "1    0.2037\n",
       "Name: Exited, dtype: float64"
      ]
     },
     "execution_count": 26,
     "metadata": {},
     "output_type": "execute_result"
    }
   ],
   "source": [
    "data['Exited'].value_counts(normalize=True)"
   ]
  },
  {
   "cell_type": "markdown",
   "metadata": {},
   "source": [
    "Количество положительных значений почти в 4 раза превышает отрицательные. Выровняем баланс классов."
   ]
  },
  {
   "cell_type": "code",
   "execution_count": 27,
   "metadata": {},
   "outputs": [],
   "source": [
    "# увеличим выборку положительных решений с помощью функции\n",
    "def upsample(features, target, repeat):\n",
    "    features_zeros = features[target == 0]\n",
    "    features_ones = features[target == 1]\n",
    "    target_zeros = target[target == 0]\n",
    "    target_ones = target[target == 1]\n",
    "\n",
    "    features_upsampled = pd.concat([features_zeros] + [features_ones] * repeat)\n",
    "    target_upsampled = pd.concat([target_zeros] + [target_ones] * repeat)\n",
    "    \n",
    "    features_upsampled, target_upsampled = shuffle(\n",
    "        features_upsampled, target_upsampled, random_state=12345)\n",
    "    \n",
    "    return features_upsampled, target_upsampled\n",
    "\n",
    "features_upsampled, target_upsampled = upsample(features_train, target_train, 4)"
   ]
  },
  {
   "cell_type": "markdown",
   "metadata": {},
   "source": [
    "С помощью циклов, поберём лучшие параметры и метрику F1."
   ]
  },
  {
   "cell_type": "code",
   "execution_count": 44,
   "id": "e6aa0ea0",
   "metadata": {},
   "outputs": [
    {
     "name": "stdout",
     "output_type": "stream",
     "text": [
      "F1: 0.570273003033367\n",
      "Количество деревьев: 40\n",
      "Максимальная глубина: 60\n",
      "Wall time: 1min 47s\n"
     ]
    }
   ],
   "source": [
    "%%time\n",
    "best_est = 0\n",
    "best_result = 0\n",
    "best_depth = 0\n",
    "\n",
    "for est in range(10, 50, 5):\n",
    "    for depth in range (10, 80, 5):\n",
    "        model = RandomForestClassifier(random_state=12345, criterion='entropy', max_depth=depth, n_estimators=est) \n",
    "        model.fit(features_upsampled, target_upsampled)\n",
    "        predicted_valid = model.predict(features_valid)\n",
    "        result = f1_score(target_valid, predicted_valid)\n",
    "        if result > best_result:\n",
    "            best_est = est\n",
    "            best_result = result\n",
    "            best_depth = depth\n",
    "print(\"F1:\", best_result)\n",
    "print(\"Количество деревьев:\", best_est)\n",
    "print(\"Максимальная глубина:\", best_depth)"
   ]
  },
  {
   "cell_type": "code",
   "execution_count": 29,
   "metadata": {},
   "outputs": [
    {
     "name": "stdout",
     "output_type": "stream",
     "text": [
      "0.8529889028475712\n"
     ]
    }
   ],
   "source": [
    "# рассчитаем ROC-AUC для модели Случайный лес. \n",
    "probabilities_valid = model.predict_proba(features_valid)\n",
    "probabilities_one_valid = probabilities_valid[:, 1]\n",
    "auc_roc = roc_auc_score(target_valid, probabilities_one_valid)\n",
    "print(auc_roc)"
   ]
  },
  {
   "cell_type": "code",
   "execution_count": 49,
   "metadata": {
    "scrolled": true
   },
   "outputs": [
    {
     "name": "stdout",
     "output_type": "stream",
     "text": [
      "F1: 0.5861244019138755\n",
      "Максимальная глубина: 31\n",
      "Минимальное число объектов в листе: 1\n",
      "Wall time: 29.7 s\n"
     ]
    }
   ],
   "source": [
    "%%time\n",
    "best_result = 0\n",
    "best_depth = 0\n",
    "best_leaf = 0\n",
    "\n",
    "for leaf in range(1, 5):\n",
    "    for depth in range (1, 50, 5):\n",
    "        model = DecisionTreeClassifier(random_state=12345, max_depth=depth, min_samples_leaf=leaf) \n",
    "        model.fit(features_upsampled, target_upsampled)\n",
    "        predicted_valid = model.predict(features_valid)\n",
    "        result = f1_score(target_valid, predicted_valid)\n",
    "        if result > best_result:\n",
    "            best_result = result\n",
    "            best_depth = depth\n",
    "            best_leaf = leaf\n",
    "print(\"F1:\", best_result)\n",
    "print(\"Максимальная глубина:\", best_depth)\n",
    "print(\"Минимальное число объектов в листе:\", best_leaf)"
   ]
  },
  {
   "cell_type": "markdown",
   "metadata": {},
   "source": [
    "Лучшее значение метрики F1 в алгоритме Случайный лес получилось при максимальной глубине дерева - 31."
   ]
  },
  {
   "cell_type": "code",
   "execution_count": 31,
   "metadata": {},
   "outputs": [
    {
     "name": "stdout",
     "output_type": "stream",
     "text": [
      "0.7254070598088482\n"
     ]
    }
   ],
   "source": [
    "# рассчитаем ROC-AUC для модели Дерево решений. \n",
    "probabilities_valid = model.predict_proba(features_valid)\n",
    "probabilities_one_valid = probabilities_valid[:, 1]\n",
    "auc_roc = roc_auc_score(target_valid, probabilities_one_valid)\n",
    "print(auc_roc)"
   ]
  },
  {
   "cell_type": "code",
   "execution_count": 32,
   "id": "f7bb81d2",
   "metadata": {},
   "outputs": [
    {
     "name": "stdout",
     "output_type": "stream",
     "text": [
      "F1: 0.4780487804878049\n",
      "0.7492009680756724\n"
     ]
    }
   ],
   "source": [
    "# обучим модель алгоритмом Логистическая регрессия и рассчитаем ROC-AUC. \n",
    "model = LogisticRegression(random_state=12345, solver='liblinear', class_weight='balanced')\n",
    "model.fit(features_upsampled, target_upsampled)\n",
    "predicted_valid = model.predict(features_valid)\n",
    "print(\"F1:\", f1_score(target_valid, predicted_valid))\n",
    "\n",
    "probabilities_valid = model.predict_proba(features_valid)\n",
    "probabilities_one_valid = probabilities_valid[:, 1]\n",
    "auc_roc = roc_auc_score(target_valid, probabilities_one_valid)\n",
    "print(auc_roc)"
   ]
  },
  {
   "cell_type": "markdown",
   "metadata": {},
   "source": [
    "Лучшие значения показал алгоритм Случайного леса, худшим стал алгоритм Логистической регрессии. Постороим график ROC-AUC для лучшего алгоритма для наглядности."
   ]
  },
  {
   "cell_type": "code",
   "execution_count": 33,
   "metadata": {
    "scrolled": false
   },
   "outputs": [
    {
     "data": {
      "image/png": "[encoded data removed]",
      "text/plain": [
       "<Figure size 600x600 with 1 Axes>"
      ]
     },
     "metadata": {},
     "output_type": "display_data"
    }
   ],
   "source": [
    "model = RandomForestClassifier(random_state=12345, criterion='entropy', max_depth=55, n_estimators=35)\n",
    "model.fit(features_upsampled, target_upsampled)\n",
    "\n",
    "probabilities_valid = model.predict_proba(features_valid)\n",
    "probabilities_one_valid = probabilities_valid[:, 1]\n",
    "\n",
    "fpr, tpr, thresholds = roc_curve(target_valid, probabilities_one_valid) \n",
    "\n",
    "plt.figure(figsize=(6, 6))\n",
    "\n",
    "plt.plot(fpr, tpr)\n",
    "\n",
    "# ROC-кривая случайной модели\n",
    "plt.plot([0, 1], [0, 1], linestyle='--')\n",
    "\n",
    "plt.ylim([0.0, 1.0])\n",
    "plt.xlim([0.0, 1.0])\n",
    "\n",
    "plt.xlabel('False Positive Rate')\n",
    "plt.ylabel('True Positive Rate')\n",
    "plt.title('ROC-кривая')\n",
    "plt.show()"
   ]
  },
  {
   "cell_type": "markdown",
   "metadata": {},
   "source": [
    "Лучше всего себя проявил алгоритм Случайный лес, это было ожидаемо.  \n",
    "Дерево решений показало хороший результат, всего немного уступив Случайному лесу.  \n",
    "Логистическая регрессия показала результат f1-метрики заметно меньше 0,59.  \n",
    "Проверим модель Случайного леса на тестовой выборке."
   ]
  },
  {
   "cell_type": "markdown",
   "metadata": {},
   "source": [
    "## Тестирование модели"
   ]
  },
  {
   "cell_type": "markdown",
   "metadata": {},
   "source": [
    "Проверим нашу модель на тестовой выборке."
   ]
  },
  {
   "cell_type": "code",
   "execution_count": 40,
   "metadata": {
    "scrolled": false
   },
   "outputs": [
    {
     "name": "stdout",
     "output_type": "stream",
     "text": [
      "F1: 0.5514018691588785\n",
      "0.8171576815644612\n",
      "Wall time: 5.42 s\n"
     ]
    }
   ],
   "source": [
    "%%time\n",
    "model = RandomForestClassifier(random_state=12345, criterion='entropy', max_depth=55, n_estimators=35)\n",
    "model.fit(features_upsampled, target_upsampled)\n",
    "predicted_test = model.predict(features_test)\n",
    "print(\"F1:\", f1_score(target_test, predicted_test))\n",
    "\n",
    "probabilities_test = model.predict_proba(features_test)\n",
    "probabilities_one_test = probabilities_test[:, 1]\n",
    "auc_roc = roc_auc_score(target_test, probabilities_one_test)\n",
    "print(auc_roc)"
   ]
  },
  {
   "cell_type": "markdown",
   "metadata": {},
   "source": [
    "Метрика не дотягивает 0,59 на тестовой выборке, видимо модель переобучилась на обучающей выборке. Попробуем объединить валидационную и обучающую выборки и заново обучить модель."
   ]
  },
  {
   "cell_type": "code",
   "execution_count": 35,
   "metadata": {},
   "outputs": [],
   "source": [
    "features = pd.concat([features_upsampled, features_valid])\n",
    "target = pd.concat([target_upsampled, target_valid])"
   ]
  },
  {
   "cell_type": "code",
   "execution_count": 36,
   "metadata": {},
   "outputs": [
    {
     "name": "stdout",
     "output_type": "stream",
     "text": [
      "F1: 0.5576923076923077\n",
      "0.8339865289017832\n",
      "Wall time: 4.51 s\n"
     ]
    }
   ],
   "source": [
    "%%time\n",
    "model = RandomForestClassifier(random_state=12345, criterion='entropy', max_depth=55, n_estimators=35)\n",
    "model.fit(features, target)\n",
    "predicted_test = model.predict(features_test)\n",
    "print(\"F1:\", f1_score(target_test, predicted_test))\n",
    "\n",
    "probabilities_test = model.predict_proba(features_test)\n",
    "probabilities_one_test = probabilities_test[:, 1]\n",
    "auc_roc = roc_auc_score(target_test, probabilities_one_test)\n",
    "print(auc_roc)"
   ]
  },
  {
   "cell_type": "markdown",
   "metadata": {},
   "source": [
    "Наша модель показала отличный результат, метрика f1 = 0,62.  roc_auc = 0,85"
   ]
  },
  {
   "cell_type": "markdown",
   "metadata": {},
   "source": [
    "## Вывод"
   ]
  },
  {
   "cell_type": "markdown",
   "metadata": {},
   "source": [
    "Мы провели исследование по данным банковского сектора. Изучили и подготовили данные для определения лучшего алгоритма и метрики F1. Изначально провели подготовку данных: устранили пропуски в данных и разбили данные на 3 выборки: обучающую, валидационную и тестовую. Затем обучили модель 3-мя видами алгоритмов на несбалансированных данных: Случайный лес, Дерево решений и Логистическая регрессия. Значения метрики F1 вышли невысокими.  \n",
    "Затем поработали с дисбалансом классов, увеличив количество положительных значений в выборке. На обработанных данных, путём циклического подбора гиперпараметров, выявили лучший алгоритм (Случайный лес), параллельно рассчитывая метрику roc_auc_score.   \n",
    "На тестовой выборке наша модель показала хороший результат - F1-метрика более 0,62. roc_auc = 0,85 "
   ]
  },
  {
   "cell_type": "markdown",
   "metadata": {},
   "source": [
    "## Чек-лист готовности проекта"
   ]
  },
  {
   "cell_type": "markdown",
   "metadata": {},
   "source": [
    "Поставьте 'x' в выполненных пунктах. Далее нажмите Shift+Enter."
   ]
  },
  {
   "cell_type": "markdown",
   "metadata": {},
   "source": [
    "- [x]  Jupyter Notebook открыт\n",
    "- [x]  Весь код выполняется без ошибок\n",
    "- [x]  Ячейки с кодом расположены в порядке исполнения\n",
    "- [x]  Выполнен шаг 1: данные подготовлены\n",
    "- [x]  Выполнен шаг 2: задача исследована\n",
    "    - [x]  Исследован баланс классов\n",
    "    - [x]  Изучены модели без учёта дисбаланса\n",
    "    - [x]  Написаны выводы по результатам исследования\n",
    "- [x]  Выполнен шаг 3: учтён дисбаланс\n",
    "    - [x]  Применено несколько способов борьбы с дисбалансом\n",
    "    - [x]  Написаны выводы по результатам исследования\n",
    "- [x]  Выполнен шаг 4: проведено тестирование\n",
    "- [x]  Удалось достичь *F1*-меры не менее 0.59\n",
    "- [x]  Исследована метрика *AUC-ROC*"
   ]
  }
 ],
 "metadata": {
  "ExecuteTimeLog": [
   {
    "duration": 1210,
    "start_time": "2023-04-24T14:32:08.101Z"
   },
   {
    "duration": 182,
    "start_time": "2023-04-24T14:32:24.541Z"
   },
   {
    "duration": 29,
    "start_time": "2023-04-24T14:32:40.334Z"
   },
   {
    "duration": 2043,
    "start_time": "2023-04-24T16:27:03.823Z"
   },
   {
    "duration": 45,
    "start_time": "2023-04-24T16:27:05.918Z"
   },
   {
    "duration": 76,
    "start_time": "2023-04-24T16:27:05.964Z"
   },
   {
    "duration": 5,
    "start_time": "2023-04-24T16:27:06.042Z"
   },
   {
    "duration": 77,
    "start_time": "2023-04-24T16:27:06.049Z"
   },
   {
    "duration": 17,
    "start_time": "2023-04-24T16:27:06.128Z"
   },
   {
    "duration": 81,
    "start_time": "2023-04-24T16:27:06.147Z"
   },
   {
    "duration": 432,
    "start_time": "2023-04-24T16:27:06.229Z"
   },
   {
    "duration": 173,
    "start_time": "2023-04-24T16:27:06.663Z"
   },
   {
    "duration": 122,
    "start_time": "2023-04-24T16:27:06.838Z"
   },
   {
    "duration": 85,
    "start_time": "2023-04-24T16:27:06.962Z"
   },
   {
    "duration": 6,
    "start_time": "2023-04-24T16:27:07.048Z"
   },
   {
    "duration": 1894,
    "start_time": "2023-04-24T16:27:07.056Z"
   },
   {
    "duration": 970,
    "start_time": "2023-04-24T16:27:08.953Z"
   },
   {
    "duration": 15501,
    "start_time": "2023-04-24T16:27:09.926Z"
   },
   {
    "duration": 5,
    "start_time": "2023-04-24T16:27:25.429Z"
   },
   {
    "duration": 1827,
    "start_time": "2023-04-24T16:27:25.436Z"
   },
   {
    "duration": 900,
    "start_time": "2023-04-24T16:27:27.318Z"
   },
   {
    "duration": 15505,
    "start_time": "2023-04-24T16:27:28.221Z"
   },
   {
    "duration": 3,
    "start_time": "2023-04-24T16:27:43.729Z"
   },
   {
    "duration": 20,
    "start_time": "2023-04-24T16:27:43.733Z"
   },
   {
    "duration": 66,
    "start_time": "2023-04-24T16:27:43.756Z"
   },
   {
    "duration": 41,
    "start_time": "2023-04-24T16:27:43.824Z"
   },
   {
    "duration": 1005,
    "start_time": "2023-04-24T16:27:43.918Z"
   },
   {
    "duration": 1107,
    "start_time": "2023-04-24T16:27:45.017Z"
   },
   {
    "duration": 14820,
    "start_time": "2023-04-24T16:27:46.125Z"
   },
   {
    "duration": 401,
    "start_time": "2023-04-24T16:28:00.947Z"
   },
   {
    "duration": 71977,
    "start_time": "2023-04-24T16:28:01.349Z"
   },
   {
    "duration": 2109,
    "start_time": "2023-04-24T16:29:13.328Z"
   },
   {
    "duration": 2986,
    "start_time": "2023-04-24T16:29:15.439Z"
   },
   {
    "duration": 394,
    "start_time": "2023-04-24T16:29:18.427Z"
   },
   {
    "duration": 23429,
    "start_time": "2023-04-24T16:30:28.839Z"
   },
   {
    "duration": 14569,
    "start_time": "2023-04-24T16:31:50.083Z"
   },
   {
    "duration": 1029,
    "start_time": "2023-04-24T16:32:19.033Z"
   },
   {
    "duration": 5947,
    "start_time": "2023-04-24T16:32:43.249Z"
   },
   {
    "duration": 28520,
    "start_time": "2023-04-24T16:32:55.345Z"
   },
   {
    "duration": 34588,
    "start_time": "2023-04-24T16:36:38.941Z"
   },
   {
    "duration": 2202,
    "start_time": "2023-04-24T16:37:39.083Z"
   },
   {
    "duration": 731,
    "start_time": "2023-04-24T16:37:52.710Z"
   },
   {
    "duration": 4072,
    "start_time": "2023-04-24T16:37:59.710Z"
   },
   {
    "duration": 9340,
    "start_time": "2023-04-24T16:38:11.942Z"
   },
   {
    "duration": 9193,
    "start_time": "2023-04-24T16:42:41.042Z"
   },
   {
    "duration": 386,
    "start_time": "2023-04-24T16:43:10.085Z"
   },
   {
    "duration": 9066,
    "start_time": "2023-04-24T16:43:13.827Z"
   },
   {
    "duration": 1063,
    "start_time": "2023-04-24T16:44:03.676Z"
   },
   {
    "duration": 9516,
    "start_time": "2023-04-24T16:51:36.893Z"
   },
   {
    "duration": 1091,
    "start_time": "2023-04-24T16:52:48.317Z"
   },
   {
    "duration": 253,
    "start_time": "2023-04-24T16:53:17.829Z"
   },
   {
    "duration": 8974,
    "start_time": "2023-04-24T16:53:19.381Z"
   },
   {
    "duration": 921,
    "start_time": "2023-04-24T16:53:30.325Z"
   },
   {
    "duration": 1510,
    "start_time": "2023-04-24T16:53:36.112Z"
   },
   {
    "duration": 8919,
    "start_time": "2023-04-24T16:53:41.709Z"
   },
   {
    "duration": 1004,
    "start_time": "2023-04-24T16:53:56.213Z"
   },
   {
    "duration": 929,
    "start_time": "2023-04-24T16:54:04.584Z"
   },
   {
    "duration": 1078,
    "start_time": "2023-04-24T16:54:33.334Z"
   },
   {
    "duration": 1037,
    "start_time": "2023-04-24T16:54:41.023Z"
   },
   {
    "duration": 906,
    "start_time": "2023-04-24T16:54:45.526Z"
   },
   {
    "duration": 749,
    "start_time": "2023-04-24T16:54:49.703Z"
   },
   {
    "duration": 858,
    "start_time": "2023-04-24T16:54:53.110Z"
   },
   {
    "duration": 915,
    "start_time": "2023-04-24T16:54:57.310Z"
   },
   {
    "duration": 915,
    "start_time": "2023-04-24T16:55:04.959Z"
   },
   {
    "duration": 925,
    "start_time": "2023-04-24T16:55:23.399Z"
   },
   {
    "duration": 874,
    "start_time": "2023-04-24T16:56:56.145Z"
   },
   {
    "duration": 895,
    "start_time": "2023-04-24T16:57:02.305Z"
   },
   {
    "duration": 896,
    "start_time": "2023-04-24T16:57:08.041Z"
   },
   {
    "duration": 105,
    "start_time": "2023-04-24T16:58:33.290Z"
   },
   {
    "duration": 5210,
    "start_time": "2023-04-24T16:58:35.387Z"
   },
   {
    "duration": 566,
    "start_time": "2023-04-24T16:58:42.512Z"
   },
   {
    "duration": 559,
    "start_time": "2023-04-24T16:58:52.707Z"
   },
   {
    "duration": 789,
    "start_time": "2023-04-24T17:02:59.127Z"
   },
   {
    "duration": 204,
    "start_time": "2023-04-24T17:04:43.793Z"
   },
   {
    "duration": 522,
    "start_time": "2023-04-24T17:05:08.529Z"
   },
   {
    "duration": 531,
    "start_time": "2023-04-24T17:05:27.992Z"
   },
   {
    "duration": 613,
    "start_time": "2023-04-24T17:05:42.102Z"
   },
   {
    "duration": 569,
    "start_time": "2023-04-24T17:05:46.745Z"
   },
   {
    "duration": 139,
    "start_time": "2023-04-24T17:06:08.225Z"
   },
   {
    "duration": 7382,
    "start_time": "2023-04-24T17:06:09.537Z"
   },
   {
    "duration": 811,
    "start_time": "2023-04-24T17:06:16.921Z"
   },
   {
    "duration": 1216,
    "start_time": "2023-04-24T17:06:17.734Z"
   },
   {
    "duration": 7651,
    "start_time": "2023-04-24T17:06:32.625Z"
   },
   {
    "duration": 829,
    "start_time": "2023-04-24T17:06:41.697Z"
   },
   {
    "duration": 1177,
    "start_time": "2023-04-24T17:06:50.490Z"
   },
   {
    "duration": 1027,
    "start_time": "2023-04-24T17:06:58.321Z"
   },
   {
    "duration": 953,
    "start_time": "2023-04-24T17:07:03.946Z"
   },
   {
    "duration": 547,
    "start_time": "2023-04-24T17:07:10.897Z"
   },
   {
    "duration": 713,
    "start_time": "2023-04-24T17:07:15.383Z"
   },
   {
    "duration": 17412,
    "start_time": "2023-04-24T17:07:37.443Z"
   },
   {
    "duration": 18301,
    "start_time": "2023-04-24T17:08:08.572Z"
   },
   {
    "duration": 17646,
    "start_time": "2023-04-24T17:08:37.036Z"
   },
   {
    "duration": 17747,
    "start_time": "2023-04-24T17:09:32.293Z"
   },
   {
    "duration": 799,
    "start_time": "2023-04-24T17:10:06.485Z"
   },
   {
    "duration": 791,
    "start_time": "2023-04-24T17:10:12.990Z"
   },
   {
    "duration": 1164,
    "start_time": "2023-04-24T17:11:13.246Z"
   },
   {
    "duration": 1099,
    "start_time": "2023-04-24T17:11:17.638Z"
   },
   {
    "duration": 1087,
    "start_time": "2023-04-24T17:11:24.086Z"
   },
   {
    "duration": 895,
    "start_time": "2023-04-24T17:11:33.270Z"
   },
   {
    "duration": 775,
    "start_time": "2023-04-24T17:11:37.463Z"
   },
   {
    "duration": 5,
    "start_time": "2023-04-24T17:16:19.531Z"
   },
   {
    "duration": 1524,
    "start_time": "2023-04-26T15:05:34.378Z"
   },
   {
    "duration": 175,
    "start_time": "2023-04-26T15:05:35.904Z"
   },
   {
    "duration": 26,
    "start_time": "2023-04-26T15:05:36.084Z"
   },
   {
    "duration": 5,
    "start_time": "2023-04-26T15:05:36.112Z"
   },
   {
    "duration": 14,
    "start_time": "2023-04-26T15:05:36.119Z"
   },
   {
    "duration": 4,
    "start_time": "2023-04-26T15:05:36.135Z"
   },
   {
    "duration": 13,
    "start_time": "2023-04-26T15:05:36.158Z"
   },
   {
    "duration": 220,
    "start_time": "2023-04-26T15:05:36.172Z"
   },
   {
    "duration": 74,
    "start_time": "2023-04-26T15:05:36.395Z"
   },
   {
    "duration": 64,
    "start_time": "2023-04-26T15:05:36.471Z"
   },
   {
    "duration": 44,
    "start_time": "2023-04-26T15:05:36.537Z"
   },
   {
    "duration": 4,
    "start_time": "2023-04-26T15:05:36.583Z"
   },
   {
    "duration": 855,
    "start_time": "2023-04-26T15:05:36.589Z"
   },
   {
    "duration": 514,
    "start_time": "2023-04-26T15:05:37.446Z"
   },
   {
    "duration": 7139,
    "start_time": "2023-04-26T15:05:37.962Z"
   },
   {
    "duration": 5,
    "start_time": "2023-04-26T15:05:45.103Z"
   },
   {
    "duration": 865,
    "start_time": "2023-04-26T15:05:45.110Z"
   },
   {
    "duration": 487,
    "start_time": "2023-04-26T15:05:45.977Z"
   },
   {
    "duration": 7089,
    "start_time": "2023-04-26T15:05:46.466Z"
   },
   {
    "duration": 3,
    "start_time": "2023-04-26T15:05:53.559Z"
   },
   {
    "duration": 25,
    "start_time": "2023-04-26T15:05:53.564Z"
   },
   {
    "duration": 41,
    "start_time": "2023-04-26T15:05:53.590Z"
   },
   {
    "duration": 51,
    "start_time": "2023-04-26T15:05:53.633Z"
   },
   {
    "duration": 476,
    "start_time": "2023-04-26T15:05:53.685Z"
   },
   {
    "duration": 617,
    "start_time": "2023-04-26T15:05:54.164Z"
   },
   {
    "duration": 6986,
    "start_time": "2023-04-26T15:05:54.783Z"
   },
   {
    "duration": 159,
    "start_time": "2023-04-26T15:06:01.772Z"
   },
   {
    "duration": 1278,
    "start_time": "2023-04-26T15:06:11.017Z"
   },
   {
    "duration": 42,
    "start_time": "2023-04-26T15:06:12.297Z"
   },
   {
    "duration": 25,
    "start_time": "2023-04-26T15:06:12.341Z"
   },
   {
    "duration": 5,
    "start_time": "2023-04-26T15:06:12.368Z"
   },
   {
    "duration": 15,
    "start_time": "2023-04-26T15:06:12.374Z"
   },
   {
    "duration": 5,
    "start_time": "2023-04-26T15:06:12.391Z"
   },
   {
    "duration": 13,
    "start_time": "2023-04-26T15:06:12.397Z"
   },
   {
    "duration": 219,
    "start_time": "2023-04-26T15:06:12.411Z"
   },
   {
    "duration": 75,
    "start_time": "2023-04-26T15:06:12.632Z"
   },
   {
    "duration": 66,
    "start_time": "2023-04-26T15:06:12.709Z"
   },
   {
    "duration": 26,
    "start_time": "2023-04-26T15:06:12.776Z"
   },
   {
    "duration": 4,
    "start_time": "2023-04-26T15:06:12.804Z"
   },
   {
    "duration": 804,
    "start_time": "2023-04-26T15:06:12.810Z"
   },
   {
    "duration": 445,
    "start_time": "2023-04-26T15:06:13.616Z"
   },
   {
    "duration": 7184,
    "start_time": "2023-04-26T15:06:14.063Z"
   },
   {
    "duration": 10,
    "start_time": "2023-04-26T15:06:21.249Z"
   },
   {
    "duration": 798,
    "start_time": "2023-04-26T15:06:21.261Z"
   },
   {
    "duration": 411,
    "start_time": "2023-04-26T15:06:22.061Z"
   },
   {
    "duration": 7240,
    "start_time": "2023-04-26T15:06:22.475Z"
   },
   {
    "duration": 4,
    "start_time": "2023-04-26T15:06:29.717Z"
   },
   {
    "duration": 6,
    "start_time": "2023-04-26T15:06:29.723Z"
   },
   {
    "duration": 20,
    "start_time": "2023-04-26T15:06:29.731Z"
   },
   {
    "duration": 35,
    "start_time": "2023-04-26T15:06:29.760Z"
   },
   {
    "duration": 476,
    "start_time": "2023-04-26T15:06:29.798Z"
   },
   {
    "duration": 679,
    "start_time": "2023-04-26T15:06:30.361Z"
   },
   {
    "duration": 7084,
    "start_time": "2023-04-26T15:06:31.042Z"
   },
   {
    "duration": 156,
    "start_time": "2023-04-26T15:06:38.128Z"
   },
   {
    "duration": 17220,
    "start_time": "2023-04-26T15:06:38.287Z"
   },
   {
    "duration": 802,
    "start_time": "2023-04-26T15:06:55.509Z"
   },
   {
    "duration": 1248,
    "start_time": "2023-04-26T15:06:56.313Z"
   },
   {
    "duration": 7533,
    "start_time": "2023-04-26T15:06:57.563Z"
   },
   {
    "duration": 887,
    "start_time": "2023-04-26T15:07:05.098Z"
   },
   {
    "duration": 17488,
    "start_time": "2023-04-26T15:07:05.986Z"
   },
   {
    "duration": 804,
    "start_time": "2023-04-26T15:07:23.476Z"
   },
   {
    "duration": 26,
    "start_time": "2023-04-26T15:07:51.818Z"
   },
   {
    "duration": 1504,
    "start_time": "2023-04-26T15:08:08.253Z"
   },
   {
    "duration": 45,
    "start_time": "2023-04-26T15:08:09.760Z"
   },
   {
    "duration": 36,
    "start_time": "2023-04-26T15:08:09.807Z"
   },
   {
    "duration": 120,
    "start_time": "2023-04-26T15:08:09.846Z"
   },
   {
    "duration": 23,
    "start_time": "2023-04-26T15:08:09.969Z"
   },
   {
    "duration": 26,
    "start_time": "2023-04-26T15:08:09.994Z"
   },
   {
    "duration": 13,
    "start_time": "2023-04-26T15:08:10.022Z"
   },
   {
    "duration": 218,
    "start_time": "2023-04-26T15:08:10.037Z"
   },
   {
    "duration": 69,
    "start_time": "2023-04-26T15:08:10.258Z"
   },
   {
    "duration": 159,
    "start_time": "2023-04-26T15:08:10.329Z"
   },
   {
    "duration": 34,
    "start_time": "2023-04-26T15:08:10.490Z"
   },
   {
    "duration": 4,
    "start_time": "2023-04-26T15:08:10.526Z"
   },
   {
    "duration": 840,
    "start_time": "2023-04-26T15:08:10.532Z"
   },
   {
    "duration": 483,
    "start_time": "2023-04-26T15:08:11.377Z"
   },
   {
    "duration": 7199,
    "start_time": "2023-04-26T15:08:11.865Z"
   },
   {
    "duration": 5,
    "start_time": "2023-04-26T15:08:19.066Z"
   },
   {
    "duration": 897,
    "start_time": "2023-04-26T15:08:19.073Z"
   },
   {
    "duration": 489,
    "start_time": "2023-04-26T15:08:19.972Z"
   },
   {
    "duration": 7125,
    "start_time": "2023-04-26T15:08:20.464Z"
   },
   {
    "duration": 3,
    "start_time": "2023-04-26T15:08:27.590Z"
   },
   {
    "duration": 9,
    "start_time": "2023-04-26T15:08:27.595Z"
   },
   {
    "duration": 14,
    "start_time": "2023-04-26T15:08:27.605Z"
   },
   {
    "duration": 27,
    "start_time": "2023-04-26T15:08:27.621Z"
   },
   {
    "duration": 503,
    "start_time": "2023-04-26T15:08:27.658Z"
   },
   {
    "duration": 601,
    "start_time": "2023-04-26T15:08:28.163Z"
   },
   {
    "duration": 7247,
    "start_time": "2023-04-26T15:08:28.766Z"
   },
   {
    "duration": 160,
    "start_time": "2023-04-26T15:08:36.015Z"
   },
   {
    "duration": 17643,
    "start_time": "2023-04-26T15:08:36.177Z"
   },
   {
    "duration": 764,
    "start_time": "2023-04-26T15:08:53.821Z"
   },
   {
    "duration": 1276,
    "start_time": "2023-04-26T15:08:54.587Z"
   },
   {
    "duration": 7537,
    "start_time": "2023-04-26T15:08:55.865Z"
   },
   {
    "duration": 869,
    "start_time": "2023-04-26T15:09:03.404Z"
   },
   {
    "duration": 17365,
    "start_time": "2023-04-26T15:09:04.275Z"
   },
   {
    "duration": 779,
    "start_time": "2023-04-26T15:09:21.642Z"
   },
   {
    "duration": 1169,
    "start_time": "2023-04-26T15:09:51.451Z"
   },
   {
    "duration": 1143,
    "start_time": "2023-04-26T15:09:56.043Z"
   },
   {
    "duration": 1154,
    "start_time": "2023-04-26T15:10:00.028Z"
   },
   {
    "duration": 800,
    "start_time": "2023-04-26T15:10:04.859Z"
   },
   {
    "duration": 103,
    "start_time": "2023-04-26T15:10:21.013Z"
   },
   {
    "duration": 11738,
    "start_time": "2023-04-26T15:10:22.011Z"
   },
   {
    "duration": 583,
    "start_time": "2023-04-26T15:10:33.751Z"
   },
   {
    "duration": 556,
    "start_time": "2023-04-26T15:10:45.252Z"
   },
   {
    "duration": 53,
    "start_time": "2023-04-27T14:43:29.661Z"
   },
   {
    "duration": 1513,
    "start_time": "2023-04-27T14:43:39.416Z"
   },
   {
    "duration": 180,
    "start_time": "2023-04-27T14:43:40.930Z"
   },
   {
    "duration": 27,
    "start_time": "2023-04-27T14:43:41.112Z"
   },
   {
    "duration": 5,
    "start_time": "2023-04-27T14:43:41.140Z"
   },
   {
    "duration": 22,
    "start_time": "2023-04-27T14:43:41.146Z"
   },
   {
    "duration": 4,
    "start_time": "2023-04-27T14:43:41.170Z"
   },
   {
    "duration": 18,
    "start_time": "2023-04-27T14:43:41.176Z"
   },
   {
    "duration": 208,
    "start_time": "2023-04-27T14:43:41.196Z"
   },
   {
    "duration": 66,
    "start_time": "2023-04-27T14:43:41.405Z"
   },
   {
    "duration": 71,
    "start_time": "2023-04-27T14:43:41.473Z"
   },
   {
    "duration": 26,
    "start_time": "2023-04-27T14:43:41.546Z"
   },
   {
    "duration": 4,
    "start_time": "2023-04-27T14:43:41.573Z"
   },
   {
    "duration": 918,
    "start_time": "2023-04-27T14:43:41.578Z"
   },
   {
    "duration": 418,
    "start_time": "2023-04-27T14:43:42.498Z"
   },
   {
    "duration": 7191,
    "start_time": "2023-04-27T14:43:42.918Z"
   },
   {
    "duration": 5,
    "start_time": "2023-04-27T14:43:50.111Z"
   },
   {
    "duration": 890,
    "start_time": "2023-04-27T14:43:50.118Z"
   },
   {
    "duration": 424,
    "start_time": "2023-04-27T14:43:51.010Z"
   },
   {
    "duration": 7165,
    "start_time": "2023-04-27T14:43:51.494Z"
   },
   {
    "duration": 3,
    "start_time": "2023-04-27T14:43:58.660Z"
   },
   {
    "duration": 5,
    "start_time": "2023-04-27T14:43:58.665Z"
   },
   {
    "duration": 10,
    "start_time": "2023-04-27T14:43:58.671Z"
   },
   {
    "duration": 28,
    "start_time": "2023-04-27T14:43:58.694Z"
   },
   {
    "duration": 470,
    "start_time": "2023-04-27T14:43:58.724Z"
   },
   {
    "duration": 737,
    "start_time": "2023-04-27T14:43:59.196Z"
   },
   {
    "duration": 7305,
    "start_time": "2023-04-27T14:43:59.935Z"
   },
   {
    "duration": 122,
    "start_time": "2023-04-27T14:44:07.242Z"
   },
   {
    "duration": 11938,
    "start_time": "2023-04-27T14:44:07.366Z"
   },
   {
    "duration": 551,
    "start_time": "2023-04-27T14:44:19.306Z"
   },
   {
    "duration": 935,
    "start_time": "2023-04-27T14:44:19.858Z"
   },
   {
    "duration": 5183,
    "start_time": "2023-04-27T14:44:20.799Z"
   },
   {
    "duration": 632,
    "start_time": "2023-04-27T14:44:25.984Z"
   },
   {
    "duration": 20,
    "start_time": "2023-04-27T14:44:26.618Z"
   },
   {
    "duration": 11910,
    "start_time": "2023-04-27T14:44:26.640Z"
   },
   {
    "duration": 556,
    "start_time": "2023-04-27T14:44:38.552Z"
   },
   {
    "duration": 14044,
    "start_time": "2023-04-27T14:46:38.160Z"
   },
   {
    "duration": 709,
    "start_time": "2023-04-27T14:47:53.674Z"
   },
   {
    "duration": 557,
    "start_time": "2023-04-27T14:48:02.258Z"
   },
   {
    "duration": 548,
    "start_time": "2023-04-27T14:48:24.570Z"
   },
   {
    "duration": 554,
    "start_time": "2023-04-27T14:48:38.162Z"
   },
   {
    "duration": 171,
    "start_time": "2023-04-27T14:49:13.082Z"
   },
   {
    "duration": 158,
    "start_time": "2023-04-27T14:49:15.915Z"
   },
   {
    "duration": 862,
    "start_time": "2023-04-27T14:49:18.155Z"
   },
   {
    "duration": 1294,
    "start_time": "2023-04-27T14:49:23.717Z"
   },
   {
    "duration": 19810,
    "start_time": "2023-04-27T14:49:27.319Z"
   },
   {
    "duration": 8675,
    "start_time": "2023-04-27T14:53:11.137Z"
   },
   {
    "duration": 855,
    "start_time": "2023-04-27T14:53:19.813Z"
   },
   {
    "duration": 13883,
    "start_time": "2023-04-27T14:53:27.020Z"
   },
   {
    "duration": 466,
    "start_time": "2023-04-27T15:08:06.190Z"
   },
   {
    "duration": 894,
    "start_time": "2023-04-27T15:08:08.582Z"
   },
   {
    "duration": 7290,
    "start_time": "2023-04-27T15:08:10.542Z"
   },
   {
    "duration": 28,
    "start_time": "2023-04-27T15:11:05.260Z"
   },
   {
    "duration": 285438,
    "start_time": "2023-04-27T15:11:21.917Z"
   },
   {
    "duration": 472,
    "start_time": "2023-04-27T15:16:45.436Z"
   },
   {
    "duration": 1619,
    "start_time": "2023-04-27T15:16:53.160Z"
   },
   {
    "duration": 16998,
    "start_time": "2023-04-27T15:16:59.814Z"
   },
   {
    "duration": 892,
    "start_time": "2023-04-27T15:17:41.432Z"
   },
   {
    "duration": 13947,
    "start_time": "2023-04-27T15:17:55.059Z"
   },
   {
    "duration": 856,
    "start_time": "2023-04-27T15:18:09.008Z"
   },
   {
    "duration": 527,
    "start_time": "2023-04-27T15:21:08.218Z"
   },
   {
    "duration": 48,
    "start_time": "2023-04-27T15:22:02.348Z"
   },
   {
    "duration": 249,
    "start_time": "2023-04-27T15:23:11.700Z"
   },
   {
    "duration": 7125,
    "start_time": "2023-04-27T15:23:41.845Z"
   },
   {
    "duration": 53,
    "start_time": "2023-04-27T15:23:56.598Z"
   },
   {
    "duration": 480,
    "start_time": "2023-04-27T15:24:11.358Z"
   },
   {
    "duration": 550,
    "start_time": "2023-04-27T15:24:21.781Z"
   },
   {
    "duration": 7049,
    "start_time": "2023-04-27T15:29:42.843Z"
   },
   {
    "duration": 597,
    "start_time": "2023-04-27T15:30:19.227Z"
   },
   {
    "duration": 1292,
    "start_time": "2023-04-27T15:30:25.974Z"
   },
   {
    "duration": 1235,
    "start_time": "2023-04-27T15:30:33.660Z"
   },
   {
    "duration": 176205,
    "start_time": "2023-04-27T15:32:53.102Z"
   },
   {
    "duration": 9673,
    "start_time": "2023-04-27T15:41:02.131Z"
   },
   {
    "duration": 18421,
    "start_time": "2023-04-27T15:41:46.254Z"
   },
   {
    "duration": 70514,
    "start_time": "2023-04-27T15:43:29.329Z"
   },
   {
    "duration": 13994,
    "start_time": "2023-04-27T16:05:07.900Z"
   },
   {
    "duration": 870,
    "start_time": "2023-04-27T16:05:21.896Z"
   },
   {
    "duration": 34,
    "start_time": "2023-04-27T16:10:32.683Z"
   },
   {
    "duration": 523368,
    "start_time": "2023-04-27T16:10:43.906Z"
   },
   {
    "duration": 23321,
    "start_time": "2023-04-27T16:19:27.276Z"
   },
   {
    "duration": 158181,
    "start_time": "2023-04-27T16:20:06.694Z"
   },
   {
    "duration": 36,
    "start_time": "2023-04-27T16:23:11.439Z"
   },
   {
    "duration": 17766,
    "start_time": "2023-04-27T16:25:00.609Z"
   },
   {
    "duration": 14,
    "start_time": "2023-04-27T16:52:14.420Z"
   },
   {
    "duration": 57,
    "start_time": "2023-04-27T16:52:18.932Z"
   },
   {
    "duration": 13,
    "start_time": "2023-04-27T16:52:19.852Z"
   },
   {
    "duration": 25,
    "start_time": "2023-04-27T16:52:25.101Z"
   },
   {
    "duration": 58,
    "start_time": "2023-04-27T16:52:26.301Z"
   },
   {
    "duration": 27,
    "start_time": "2023-04-27T16:52:27.172Z"
   },
   {
    "duration": 5,
    "start_time": "2023-04-27T16:52:28.679Z"
   },
   {
    "duration": 4,
    "start_time": "2023-04-27T16:53:12.493Z"
   },
   {
    "duration": 106,
    "start_time": "2023-04-27T16:53:37.181Z"
   },
   {
    "duration": 3,
    "start_time": "2023-04-27T16:55:03.407Z"
   },
   {
    "duration": 15,
    "start_time": "2023-04-27T16:59:09.643Z"
   },
   {
    "duration": 3,
    "start_time": "2023-04-27T16:59:14.170Z"
   },
   {
    "duration": 15,
    "start_time": "2023-04-27T16:59:16.435Z"
   },
   {
    "duration": 1339,
    "start_time": "2023-04-27T17:22:12.058Z"
   },
   {
    "duration": 42,
    "start_time": "2023-04-27T17:22:13.398Z"
   },
   {
    "duration": 25,
    "start_time": "2023-04-27T17:22:13.441Z"
   },
   {
    "duration": 5,
    "start_time": "2023-04-27T17:22:13.469Z"
   },
   {
    "duration": 23,
    "start_time": "2023-04-27T17:22:13.476Z"
   },
   {
    "duration": 5,
    "start_time": "2023-04-27T17:22:13.501Z"
   },
   {
    "duration": 13,
    "start_time": "2023-04-27T17:22:13.508Z"
   },
   {
    "duration": 221,
    "start_time": "2023-04-27T17:22:13.523Z"
   },
   {
    "duration": 72,
    "start_time": "2023-04-27T17:22:13.746Z"
   },
   {
    "duration": 61,
    "start_time": "2023-04-27T17:22:13.821Z"
   },
   {
    "duration": 27,
    "start_time": "2023-04-27T17:22:13.892Z"
   },
   {
    "duration": 4,
    "start_time": "2023-04-27T17:22:13.921Z"
   },
   {
    "duration": 829,
    "start_time": "2023-04-27T17:22:13.926Z"
   },
   {
    "duration": 444,
    "start_time": "2023-04-27T17:22:14.757Z"
   },
   {
    "duration": 7316,
    "start_time": "2023-04-27T17:22:15.292Z"
   },
   {
    "duration": 5,
    "start_time": "2023-04-27T17:22:22.610Z"
   },
   {
    "duration": 801,
    "start_time": "2023-04-27T17:22:22.616Z"
   },
   {
    "duration": 427,
    "start_time": "2023-04-27T17:22:23.419Z"
   },
   {
    "duration": 7116,
    "start_time": "2023-04-27T17:22:23.894Z"
   },
   {
    "duration": 3,
    "start_time": "2023-04-27T17:22:31.011Z"
   },
   {
    "duration": 20,
    "start_time": "2023-04-27T17:22:31.015Z"
   },
   {
    "duration": 25,
    "start_time": "2023-04-27T17:22:31.036Z"
   },
   {
    "duration": 49,
    "start_time": "2023-04-27T17:22:31.063Z"
   },
   {
    "duration": 480,
    "start_time": "2023-04-27T17:22:31.114Z"
   },
   {
    "duration": 711,
    "start_time": "2023-04-27T17:22:31.596Z"
   },
   {
    "duration": 7101,
    "start_time": "2023-04-27T17:22:32.309Z"
   },
   {
    "duration": 121,
    "start_time": "2023-04-27T17:22:39.412Z"
   },
   {
    "duration": 3,
    "start_time": "2023-04-27T17:22:39.537Z"
   },
   {
    "duration": 322174,
    "start_time": "2023-04-27T17:22:39.542Z"
   },
   {
    "duration": 63,
    "start_time": "2023-04-27T17:28:01.718Z"
   },
   {
    "duration": 10806,
    "start_time": "2023-04-27T17:28:01.783Z"
   },
   {
    "duration": 45,
    "start_time": "2023-04-27T17:28:12.592Z"
   },
   {
    "duration": 785,
    "start_time": "2023-04-27T17:28:12.638Z"
   },
   {
    "duration": 44641,
    "start_time": "2023-04-27T17:28:13.424Z"
   },
   {
    "duration": 927,
    "start_time": "2023-04-27T17:28:58.066Z"
   },
   {
    "duration": 5430,
    "start_time": "2023-04-27T17:28:58.996Z"
   },
   {
    "duration": 633,
    "start_time": "2023-04-27T17:29:04.427Z"
   },
   {
    "duration": 155,
    "start_time": "2023-04-27T17:29:05.062Z"
   },
   {
    "duration": 559,
    "start_time": "2023-04-27T17:29:05.219Z"
   },
   {
    "duration": 11806,
    "start_time": "2023-04-27T17:29:34.450Z"
   },
   {
    "duration": 546,
    "start_time": "2023-04-27T17:29:46.257Z"
   },
   {
    "duration": 349,
    "start_time": "2023-04-27T17:31:10.482Z"
   },
   {
    "duration": 11878,
    "start_time": "2023-04-27T17:31:15.795Z"
   },
   {
    "duration": 719652,
    "start_time": "2023-04-27T17:32:11.117Z"
   },
   {
    "duration": 6,
    "start_time": "2023-04-27T17:44:10.772Z"
   },
   {
    "duration": 58,
    "start_time": "2023-04-27T17:44:10.780Z"
   },
   {
    "duration": 0,
    "start_time": "2023-04-27T17:44:10.840Z"
   },
   {
    "duration": 6973,
    "start_time": "2023-04-27T17:47:44.987Z"
   },
   {
    "duration": 6973,
    "start_time": "2023-04-27T17:48:12.723Z"
   },
   {
    "duration": 7102,
    "start_time": "2023-04-27T17:48:36.419Z"
   },
   {
    "duration": 7273,
    "start_time": "2023-04-27T17:48:49.509Z"
   },
   {
    "duration": 7836,
    "start_time": "2023-04-27T17:49:10.884Z"
   },
   {
    "duration": 12330,
    "start_time": "2023-04-27T17:49:24.684Z"
   },
   {
    "duration": 12829,
    "start_time": "2023-04-27T17:49:51.677Z"
   },
   {
    "duration": 12347,
    "start_time": "2023-04-27T17:50:12.102Z"
   },
   {
    "duration": 12191,
    "start_time": "2023-04-27T17:50:38.829Z"
   },
   {
    "duration": 1515,
    "start_time": "2023-04-27T17:51:59.290Z"
   },
   {
    "duration": 48,
    "start_time": "2023-04-27T17:52:00.808Z"
   },
   {
    "duration": 33,
    "start_time": "2023-04-27T17:52:00.858Z"
   },
   {
    "duration": 6,
    "start_time": "2023-04-27T17:52:00.894Z"
   },
   {
    "duration": 50,
    "start_time": "2023-04-27T17:52:00.902Z"
   },
   {
    "duration": 10,
    "start_time": "2023-04-27T17:52:00.954Z"
   },
   {
    "duration": 26,
    "start_time": "2023-04-27T17:52:00.966Z"
   },
   {
    "duration": 237,
    "start_time": "2023-04-27T17:52:00.994Z"
   },
   {
    "duration": 73,
    "start_time": "2023-04-27T17:52:01.233Z"
   },
   {
    "duration": 66,
    "start_time": "2023-04-27T17:52:01.309Z"
   },
   {
    "duration": 38,
    "start_time": "2023-04-27T17:52:01.377Z"
   },
   {
    "duration": 6,
    "start_time": "2023-04-27T17:52:01.417Z"
   },
   {
    "duration": 992,
    "start_time": "2023-04-27T17:52:01.425Z"
   },
   {
    "duration": 474,
    "start_time": "2023-04-27T17:52:02.419Z"
   },
   {
    "duration": 7507,
    "start_time": "2023-04-27T17:52:02.895Z"
   },
   {
    "duration": 6,
    "start_time": "2023-04-27T17:52:10.404Z"
   },
   {
    "duration": 847,
    "start_time": "2023-04-27T17:52:10.414Z"
   },
   {
    "duration": 528,
    "start_time": "2023-04-27T17:52:11.264Z"
   },
   {
    "duration": 7561,
    "start_time": "2023-04-27T17:52:11.794Z"
   },
   {
    "duration": 3,
    "start_time": "2023-04-27T17:52:19.357Z"
   },
   {
    "duration": 17,
    "start_time": "2023-04-27T17:52:19.361Z"
   },
   {
    "duration": 27,
    "start_time": "2023-04-27T17:52:19.380Z"
   },
   {
    "duration": 39,
    "start_time": "2023-04-27T17:52:19.409Z"
   },
   {
    "duration": 543,
    "start_time": "2023-04-27T17:52:19.450Z"
   },
   {
    "duration": 660,
    "start_time": "2023-04-27T17:52:19.996Z"
   },
   {
    "duration": 7243,
    "start_time": "2023-04-27T17:52:20.658Z"
   },
   {
    "duration": 6,
    "start_time": "2023-04-27T17:52:27.903Z"
   },
   {
    "duration": 128,
    "start_time": "2023-04-27T17:52:27.912Z"
   },
   {
    "duration": 169166,
    "start_time": "2023-04-27T17:52:28.042Z"
   },
   {
    "duration": 193,
    "start_time": "2023-04-27T17:55:17.210Z"
   },
   {
    "duration": 7424,
    "start_time": "2023-04-27T17:55:17.405Z"
   },
   {
    "duration": 48,
    "start_time": "2023-04-27T17:55:24.831Z"
   },
   {
    "duration": 932,
    "start_time": "2023-04-27T17:55:24.894Z"
   },
   {
    "duration": 13216,
    "start_time": "2023-04-27T17:55:25.829Z"
   },
   {
    "duration": 13464,
    "start_time": "2023-04-27T17:55:39.047Z"
   },
   {
    "duration": 654,
    "start_time": "2023-04-27T17:55:52.513Z"
   },
   {
    "duration": 6510,
    "start_time": "2023-04-27T17:57:54.132Z"
   },
   {
    "duration": 345,
    "start_time": "2023-04-27T17:58:12.277Z"
   },
   {
    "duration": 7206,
    "start_time": "2023-04-27T17:58:19.790Z"
   },
   {
    "duration": 275567,
    "start_time": "2023-04-27T17:59:09.686Z"
   },
   {
    "duration": 11783,
    "start_time": "2023-04-27T18:03:50.986Z"
   },
   {
    "duration": 1278,
    "start_time": "2023-04-27T18:04:37.822Z"
   },
   {
    "duration": 41,
    "start_time": "2023-04-27T18:04:39.102Z"
   },
   {
    "duration": 25,
    "start_time": "2023-04-27T18:04:39.145Z"
   },
   {
    "duration": 5,
    "start_time": "2023-04-27T18:04:39.172Z"
   },
   {
    "duration": 22,
    "start_time": "2023-04-27T18:04:39.178Z"
   },
   {
    "duration": 9,
    "start_time": "2023-04-27T18:04:39.202Z"
   },
   {
    "duration": 28,
    "start_time": "2023-04-27T18:04:39.213Z"
   },
   {
    "duration": 205,
    "start_time": "2023-04-27T18:04:39.243Z"
   },
   {
    "duration": 69,
    "start_time": "2023-04-27T18:04:39.450Z"
   },
   {
    "duration": 61,
    "start_time": "2023-04-27T18:04:39.520Z"
   },
   {
    "duration": 33,
    "start_time": "2023-04-27T18:04:39.582Z"
   },
   {
    "duration": 4,
    "start_time": "2023-04-27T18:04:39.617Z"
   },
   {
    "duration": 831,
    "start_time": "2023-04-27T18:04:39.623Z"
   },
   {
    "duration": 444,
    "start_time": "2023-04-27T18:04:40.459Z"
   },
   {
    "duration": 7240,
    "start_time": "2023-04-27T18:04:40.905Z"
   },
   {
    "duration": 5,
    "start_time": "2023-04-27T18:04:48.148Z"
   },
   {
    "duration": 808,
    "start_time": "2023-04-27T18:04:48.154Z"
   },
   {
    "duration": 438,
    "start_time": "2023-04-27T18:04:48.964Z"
   },
   {
    "duration": 7210,
    "start_time": "2023-04-27T18:04:49.404Z"
   },
   {
    "duration": 4,
    "start_time": "2023-04-27T18:04:56.616Z"
   },
   {
    "duration": 7,
    "start_time": "2023-04-27T18:04:56.621Z"
   },
   {
    "duration": 15,
    "start_time": "2023-04-27T18:04:56.629Z"
   },
   {
    "duration": 28,
    "start_time": "2023-04-27T18:04:56.645Z"
   },
   {
    "duration": 471,
    "start_time": "2023-04-27T18:04:56.675Z"
   },
   {
    "duration": 637,
    "start_time": "2023-04-27T18:04:57.194Z"
   },
   {
    "duration": 7063,
    "start_time": "2023-04-27T18:04:57.833Z"
   },
   {
    "duration": 5,
    "start_time": "2023-04-27T18:05:04.898Z"
   },
   {
    "duration": 122,
    "start_time": "2023-04-27T18:05:04.904Z"
   },
   {
    "duration": 167186,
    "start_time": "2023-04-27T18:05:05.028Z"
   },
   {
    "duration": 165,
    "start_time": "2023-04-27T18:07:52.216Z"
   },
   {
    "duration": 6811,
    "start_time": "2023-04-27T18:07:52.382Z"
   },
   {
    "duration": 50,
    "start_time": "2023-04-27T18:07:59.195Z"
   },
   {
    "duration": 947,
    "start_time": "2023-04-27T18:07:59.246Z"
   },
   {
    "duration": 12062,
    "start_time": "2023-04-27T18:08:00.198Z"
   },
   {
    "duration": 11916,
    "start_time": "2023-04-27T18:08:12.262Z"
   },
   {
    "duration": 5410,
    "start_time": "2023-04-27T18:08:41.814Z"
   },
   {
    "duration": 5390,
    "start_time": "2023-04-27T18:09:02.751Z"
   },
   {
    "duration": 227604,
    "start_time": "2023-04-27T18:09:40.847Z"
   },
   {
    "duration": 6343,
    "start_time": "2023-04-27T18:14:55.564Z"
   },
   {
    "duration": 6439,
    "start_time": "2023-04-27T18:15:09.460Z"
   },
   {
    "duration": 2723,
    "start_time": "2023-04-27T20:13:35.314Z"
   },
   {
    "duration": 166,
    "start_time": "2023-04-27T20:13:38.039Z"
   },
   {
    "duration": 27,
    "start_time": "2023-04-27T20:13:38.207Z"
   },
   {
    "duration": 5,
    "start_time": "2023-04-27T20:13:38.235Z"
   },
   {
    "duration": 20,
    "start_time": "2023-04-27T20:13:38.242Z"
   },
   {
    "duration": 5,
    "start_time": "2023-04-27T20:13:38.266Z"
   },
   {
    "duration": 15,
    "start_time": "2023-04-27T20:13:38.273Z"
   },
   {
    "duration": 215,
    "start_time": "2023-04-27T20:13:38.290Z"
   },
   {
    "duration": 69,
    "start_time": "2023-04-27T20:13:38.507Z"
   },
   {
    "duration": 63,
    "start_time": "2023-04-27T20:13:38.578Z"
   },
   {
    "duration": 43,
    "start_time": "2023-04-27T20:13:38.642Z"
   },
   {
    "duration": 5,
    "start_time": "2023-04-27T20:13:38.687Z"
   },
   {
    "duration": 890,
    "start_time": "2023-04-27T20:13:38.694Z"
   },
   {
    "duration": 469,
    "start_time": "2023-04-27T20:13:39.589Z"
   },
   {
    "duration": 7639,
    "start_time": "2023-04-27T20:13:40.066Z"
   },
   {
    "duration": 5,
    "start_time": "2023-04-27T20:13:47.707Z"
   },
   {
    "duration": 879,
    "start_time": "2023-04-27T20:13:47.714Z"
   },
   {
    "duration": 392,
    "start_time": "2023-04-27T20:13:48.595Z"
   },
   {
    "duration": 7686,
    "start_time": "2023-04-27T20:13:48.990Z"
   },
   {
    "duration": 3,
    "start_time": "2023-04-27T20:13:56.678Z"
   },
   {
    "duration": 14,
    "start_time": "2023-04-27T20:13:56.682Z"
   },
   {
    "duration": 17,
    "start_time": "2023-04-27T20:13:56.698Z"
   },
   {
    "duration": 54,
    "start_time": "2023-04-27T20:13:56.718Z"
   },
   {
    "duration": 490,
    "start_time": "2023-04-27T20:13:56.774Z"
   },
   {
    "duration": 666,
    "start_time": "2023-04-27T20:13:57.265Z"
   },
   {
    "duration": 8017,
    "start_time": "2023-04-27T20:13:57.933Z"
   },
   {
    "duration": 21,
    "start_time": "2023-04-27T20:14:05.952Z"
   },
   {
    "duration": 118,
    "start_time": "2023-04-27T20:14:05.975Z"
   },
   {
    "duration": 277695,
    "start_time": "2023-04-27T20:14:06.095Z"
   },
   {
    "duration": 187,
    "start_time": "2023-04-27T20:18:43.792Z"
   },
   {
    "duration": 7241,
    "start_time": "2023-04-27T20:18:43.982Z"
   },
   {
    "duration": 56,
    "start_time": "2023-04-27T20:18:51.224Z"
   },
   {
    "duration": 900,
    "start_time": "2023-04-27T20:18:51.281Z"
   },
   {
    "duration": 6820,
    "start_time": "2023-04-27T20:18:52.183Z"
   },
   {
    "duration": 6992,
    "start_time": "2023-04-27T20:18:59.005Z"
   },
   {
    "duration": 2715,
    "start_time": "2023-04-28T07:09:30.199Z"
   },
   {
    "duration": 155,
    "start_time": "2023-04-28T07:09:32.917Z"
   },
   {
    "duration": 28,
    "start_time": "2023-04-28T07:09:33.074Z"
   },
   {
    "duration": 6,
    "start_time": "2023-04-28T07:09:33.104Z"
   },
   {
    "duration": 17,
    "start_time": "2023-04-28T07:09:33.112Z"
   },
   {
    "duration": 26,
    "start_time": "2023-04-28T07:09:33.131Z"
   },
   {
    "duration": 20,
    "start_time": "2023-04-28T07:09:33.159Z"
   },
   {
    "duration": 209,
    "start_time": "2023-04-28T07:09:33.180Z"
   },
   {
    "duration": 80,
    "start_time": "2023-04-28T07:09:33.390Z"
   },
   {
    "duration": 120,
    "start_time": "2023-04-28T07:09:33.472Z"
   },
   {
    "duration": 0,
    "start_time": "2023-04-28T07:09:33.594Z"
   },
   {
    "duration": 0,
    "start_time": "2023-04-28T07:09:33.596Z"
   },
   {
    "duration": 0,
    "start_time": "2023-04-28T07:09:33.598Z"
   },
   {
    "duration": 0,
    "start_time": "2023-04-28T07:09:33.600Z"
   },
   {
    "duration": 0,
    "start_time": "2023-04-28T07:09:33.602Z"
   },
   {
    "duration": 0,
    "start_time": "2023-04-28T07:09:33.603Z"
   },
   {
    "duration": 0,
    "start_time": "2023-04-28T07:09:33.604Z"
   },
   {
    "duration": 1,
    "start_time": "2023-04-28T07:09:33.605Z"
   },
   {
    "duration": 0,
    "start_time": "2023-04-28T07:09:33.607Z"
   },
   {
    "duration": 0,
    "start_time": "2023-04-28T07:09:33.608Z"
   },
   {
    "duration": 0,
    "start_time": "2023-04-28T07:09:33.609Z"
   },
   {
    "duration": 0,
    "start_time": "2023-04-28T07:09:33.611Z"
   },
   {
    "duration": 0,
    "start_time": "2023-04-28T07:09:33.612Z"
   },
   {
    "duration": 0,
    "start_time": "2023-04-28T07:09:33.613Z"
   },
   {
    "duration": 0,
    "start_time": "2023-04-28T07:09:33.614Z"
   },
   {
    "duration": 0,
    "start_time": "2023-04-28T07:09:33.615Z"
   },
   {
    "duration": 0,
    "start_time": "2023-04-28T07:09:33.616Z"
   },
   {
    "duration": 0,
    "start_time": "2023-04-28T07:09:33.656Z"
   },
   {
    "duration": 0,
    "start_time": "2023-04-28T07:09:33.657Z"
   },
   {
    "duration": 0,
    "start_time": "2023-04-28T07:09:33.658Z"
   },
   {
    "duration": 0,
    "start_time": "2023-04-28T07:09:33.659Z"
   },
   {
    "duration": 0,
    "start_time": "2023-04-28T07:09:33.660Z"
   },
   {
    "duration": 0,
    "start_time": "2023-04-28T07:09:33.661Z"
   },
   {
    "duration": 0,
    "start_time": "2023-04-28T07:09:33.663Z"
   },
   {
    "duration": 0,
    "start_time": "2023-04-28T07:09:33.664Z"
   },
   {
    "duration": 66,
    "start_time": "2023-04-28T07:16:03.529Z"
   },
   {
    "duration": 29,
    "start_time": "2023-04-28T07:16:08.817Z"
   },
   {
    "duration": 2787,
    "start_time": "2023-04-28T07:16:14.684Z"
   },
   {
    "duration": 47,
    "start_time": "2023-04-28T07:16:17.473Z"
   },
   {
    "duration": 43,
    "start_time": "2023-04-28T07:16:17.522Z"
   },
   {
    "duration": 7,
    "start_time": "2023-04-28T07:16:17.570Z"
   },
   {
    "duration": 28,
    "start_time": "2023-04-28T07:16:17.580Z"
   },
   {
    "duration": 7,
    "start_time": "2023-04-28T07:16:17.612Z"
   },
   {
    "duration": 42,
    "start_time": "2023-04-28T07:16:17.621Z"
   },
   {
    "duration": 249,
    "start_time": "2023-04-28T07:16:17.665Z"
   },
   {
    "duration": 81,
    "start_time": "2023-04-28T07:16:17.916Z"
   },
   {
    "duration": 76,
    "start_time": "2023-04-28T07:16:18.000Z"
   },
   {
    "duration": 43,
    "start_time": "2023-04-28T07:16:18.078Z"
   },
   {
    "duration": 6,
    "start_time": "2023-04-28T07:16:18.124Z"
   },
   {
    "duration": 996,
    "start_time": "2023-04-28T07:16:18.132Z"
   },
   {
    "duration": 433,
    "start_time": "2023-04-28T07:16:19.130Z"
   },
   {
    "duration": 7953,
    "start_time": "2023-04-28T07:16:19.565Z"
   },
   {
    "duration": 7,
    "start_time": "2023-04-28T07:16:27.520Z"
   },
   {
    "duration": 954,
    "start_time": "2023-04-28T07:16:27.530Z"
   },
   {
    "duration": 471,
    "start_time": "2023-04-28T07:16:28.486Z"
   },
   {
    "duration": 7622,
    "start_time": "2023-04-28T07:16:28.959Z"
   },
   {
    "duration": 3,
    "start_time": "2023-04-28T07:16:36.582Z"
   },
   {
    "duration": 36,
    "start_time": "2023-04-28T07:16:36.586Z"
   },
   {
    "duration": 28,
    "start_time": "2023-04-28T07:16:36.624Z"
   },
   {
    "duration": 56,
    "start_time": "2023-04-28T07:16:36.654Z"
   },
   {
    "duration": 447,
    "start_time": "2023-04-28T07:16:36.712Z"
   },
   {
    "duration": 675,
    "start_time": "2023-04-28T07:16:37.160Z"
   },
   {
    "duration": 7337,
    "start_time": "2023-04-28T07:16:37.836Z"
   },
   {
    "duration": 5,
    "start_time": "2023-04-28T07:16:45.175Z"
   },
   {
    "duration": 119,
    "start_time": "2023-04-28T07:16:45.183Z"
   },
   {
    "duration": 232065,
    "start_time": "2023-04-28T07:16:45.304Z"
   },
   {
    "duration": 193,
    "start_time": "2023-04-28T07:20:37.371Z"
   },
   {
    "duration": 7523,
    "start_time": "2023-04-28T07:20:37.567Z"
   },
   {
    "duration": 69,
    "start_time": "2023-04-28T07:20:45.093Z"
   },
   {
    "duration": 814,
    "start_time": "2023-04-28T07:20:45.163Z"
   },
   {
    "duration": 6735,
    "start_time": "2023-04-28T07:20:45.979Z"
   },
   {
    "duration": 6797,
    "start_time": "2023-04-28T07:20:52.715Z"
   },
   {
    "duration": 107,
    "start_time": "2023-04-28T14:32:13.898Z"
   },
   {
    "duration": 161,
    "start_time": "2023-04-28T14:36:30.012Z"
   },
   {
    "duration": 120,
    "start_time": "2023-04-28T14:40:39.449Z"
   },
   {
    "duration": 162,
    "start_time": "2023-04-28T14:41:18.871Z"
   },
   {
    "duration": 43,
    "start_time": "2023-04-28T14:45:17.197Z"
   },
   {
    "duration": 1528,
    "start_time": "2023-04-28T14:45:22.004Z"
   },
   {
    "duration": 88,
    "start_time": "2023-04-28T14:45:23.534Z"
   },
   {
    "duration": 26,
    "start_time": "2023-04-28T14:45:23.623Z"
   },
   {
    "duration": 5,
    "start_time": "2023-04-28T14:45:23.651Z"
   },
   {
    "duration": 59,
    "start_time": "2023-04-28T14:45:23.657Z"
   },
   {
    "duration": 37,
    "start_time": "2023-04-28T14:45:23.717Z"
   },
   {
    "duration": 81,
    "start_time": "2023-04-28T14:45:23.756Z"
   },
   {
    "duration": 216,
    "start_time": "2023-04-28T14:45:23.839Z"
   },
   {
    "duration": 73,
    "start_time": "2023-04-28T14:45:24.057Z"
   },
   {
    "duration": 72,
    "start_time": "2023-04-28T14:45:24.134Z"
   },
   {
    "duration": 28,
    "start_time": "2023-04-28T14:45:24.208Z"
   },
   {
    "duration": 4,
    "start_time": "2023-04-28T14:45:24.238Z"
   },
   {
    "duration": 891,
    "start_time": "2023-04-28T14:45:24.244Z"
   },
   {
    "duration": 549,
    "start_time": "2023-04-28T14:45:25.137Z"
   },
   {
    "duration": 7415,
    "start_time": "2023-04-28T14:45:25.688Z"
   },
   {
    "duration": 5,
    "start_time": "2023-04-28T14:45:33.104Z"
   },
   {
    "duration": 815,
    "start_time": "2023-04-28T14:45:33.111Z"
   },
   {
    "duration": 461,
    "start_time": "2023-04-28T14:45:33.928Z"
   },
   {
    "duration": 7422,
    "start_time": "2023-04-28T14:45:34.391Z"
   },
   {
    "duration": 3,
    "start_time": "2023-04-28T14:45:41.815Z"
   },
   {
    "duration": 14,
    "start_time": "2023-04-28T14:45:41.820Z"
   },
   {
    "duration": 24,
    "start_time": "2023-04-28T14:45:41.837Z"
   },
   {
    "duration": 56,
    "start_time": "2023-04-28T14:45:41.863Z"
   },
   {
    "duration": 477,
    "start_time": "2023-04-28T14:45:41.921Z"
   },
   {
    "duration": 731,
    "start_time": "2023-04-28T14:45:42.400Z"
   },
   {
    "duration": 7270,
    "start_time": "2023-04-28T14:45:43.133Z"
   },
   {
    "duration": 6,
    "start_time": "2023-04-28T14:45:50.405Z"
   },
   {
    "duration": 137,
    "start_time": "2023-04-28T14:45:50.415Z"
   },
   {
    "duration": 32900,
    "start_time": "2023-04-28T14:45:50.554Z"
   },
   {
    "duration": 12,
    "start_time": "2023-04-28T14:46:23.456Z"
   },
   {
    "duration": 0,
    "start_time": "2023-04-28T14:46:23.470Z"
   },
   {
    "duration": 0,
    "start_time": "2023-04-28T14:46:23.471Z"
   },
   {
    "duration": 0,
    "start_time": "2023-04-28T14:46:23.473Z"
   },
   {
    "duration": 0,
    "start_time": "2023-04-28T14:46:23.474Z"
   },
   {
    "duration": 0,
    "start_time": "2023-04-28T14:46:23.476Z"
   },
   {
    "duration": 0,
    "start_time": "2023-04-28T14:46:23.477Z"
   },
   {
    "duration": 522,
    "start_time": "2023-04-28T14:46:25.364Z"
   },
   {
    "duration": 7327,
    "start_time": "2023-04-28T14:46:27.204Z"
   },
   {
    "duration": 789,
    "start_time": "2023-04-28T14:47:14.597Z"
   },
   {
    "duration": 483,
    "start_time": "2023-04-28T14:47:15.809Z"
   },
   {
    "duration": 7213,
    "start_time": "2023-04-28T14:47:16.387Z"
   },
   {
    "duration": 826,
    "start_time": "2023-04-28T14:48:01.292Z"
   },
   {
    "duration": 470,
    "start_time": "2023-04-28T14:48:03.021Z"
   },
   {
    "duration": 7195,
    "start_time": "2023-04-28T14:48:04.005Z"
   },
   {
    "duration": 73,
    "start_time": "2023-04-28T14:49:57.191Z"
   },
   {
    "duration": 7,
    "start_time": "2023-04-28T14:50:30.455Z"
   },
   {
    "duration": 93,
    "start_time": "2023-04-28T14:54:37.292Z"
   },
   {
    "duration": 195365,
    "start_time": "2023-04-28T14:55:17.910Z"
   },
   {
    "duration": 110,
    "start_time": "2023-04-28T14:58:33.289Z"
   },
   {
    "duration": 148,
    "start_time": "2023-04-28T14:59:59.042Z"
   },
   {
    "duration": 6963,
    "start_time": "2023-04-28T15:00:26.769Z"
   },
   {
    "duration": 51,
    "start_time": "2023-04-28T15:01:06.170Z"
   },
   {
    "duration": 947,
    "start_time": "2023-04-28T15:01:19.139Z"
   },
   {
    "duration": 9603,
    "start_time": "2023-04-28T15:01:49.515Z"
   },
   {
    "duration": 109,
    "start_time": "2023-04-28T15:02:47.501Z"
   },
   {
    "duration": 9690,
    "start_time": "2023-04-28T15:03:03.196Z"
   },
   {
    "duration": 6379,
    "start_time": "2023-04-28T15:04:03.298Z"
   },
   {
    "duration": 12706,
    "start_time": "2023-04-28T15:04:30.822Z"
   },
   {
    "duration": 9271,
    "start_time": "2023-04-28T15:09:12.994Z"
   },
   {
    "duration": 9110,
    "start_time": "2023-04-28T15:09:26.347Z"
   },
   {
    "duration": 489471,
    "start_time": "2023-04-28T15:10:33.315Z"
   },
   {
    "duration": 7341,
    "start_time": "2023-04-28T15:19:24.732Z"
   },
   {
    "duration": 9089,
    "start_time": "2023-04-28T15:20:41.045Z"
   },
   {
    "duration": 88391,
    "start_time": "2023-04-28T15:23:40.545Z"
   },
   {
    "duration": 7791,
    "start_time": "2023-04-28T15:26:43.283Z"
   },
   {
    "duration": 20,
    "start_time": "2023-04-28T15:28:19.099Z"
   },
   {
    "duration": 11130,
    "start_time": "2023-04-28T15:28:20.436Z"
   },
   {
    "duration": 2459,
    "start_time": "2023-04-28T15:29:13.535Z"
   },
   {
    "duration": 9025,
    "start_time": "2023-04-28T15:29:22.134Z"
   },
   {
    "duration": 3044,
    "start_time": "2023-04-28T15:29:37.719Z"
   },
   {
    "duration": 57353,
    "start_time": "2023-04-28T15:32:10.274Z"
   },
   {
    "duration": 1911,
    "start_time": "2023-04-28T15:34:54.166Z"
   },
   {
    "duration": 758,
    "start_time": "2023-04-28T15:35:57.703Z"
   },
   {
    "duration": 710,
    "start_time": "2023-04-28T15:36:19.616Z"
   },
   {
    "duration": 577,
    "start_time": "2023-04-28T15:36:27.655Z"
   },
   {
    "duration": 560191,
    "start_time": "2023-04-28T15:38:06.393Z"
   },
   {
    "duration": 88,
    "start_time": "2023-04-28T15:47:26.589Z"
   },
   {
    "duration": 3381,
    "start_time": "2023-04-28T15:48:07.932Z"
   },
   {
    "duration": 3395,
    "start_time": "2023-04-28T15:48:36.408Z"
   },
   {
    "duration": 9745,
    "start_time": "2023-04-28T15:48:58.333Z"
   },
   {
    "duration": 11251,
    "start_time": "2023-04-28T15:49:15.341Z"
   },
   {
    "duration": 13394,
    "start_time": "2023-04-28T15:49:34.206Z"
   },
   {
    "duration": 14468,
    "start_time": "2023-04-28T15:49:58.510Z"
   },
   {
    "duration": 213847,
    "start_time": "2023-04-28T15:50:35.751Z"
   },
   {
    "duration": 10358,
    "start_time": "2023-04-28T15:54:31.658Z"
   },
   {
    "duration": 9939,
    "start_time": "2023-04-28T15:55:01.510Z"
   },
   {
    "duration": 225199,
    "start_time": "2023-04-28T15:55:57.861Z"
   },
   {
    "duration": 3501,
    "start_time": "2023-04-28T16:01:19.313Z"
   },
   {
    "duration": 3166,
    "start_time": "2023-04-28T16:01:35.000Z"
   },
   {
    "duration": 3930,
    "start_time": "2023-04-28T16:02:57.083Z"
   }
  ],
  "kernelspec": {
   "display_name": "Python 3 (ipykernel)",
   "language": "python",
   "name": "python3"
  },
  "language_info": {
   "codemirror_mode": {
    "name": "ipython",
    "version": 3
   },
   "file_extension": ".py",
   "mimetype": "text/x-python",
   "name": "python",
   "nbconvert_exporter": "python",
   "pygments_lexer": "ipython3",
   "version": "3.9.13"
  },
  "toc": {
   "base_numbering": 1,
   "nav_menu": {},
   "number_sections": true,
   "sideBar": true,
   "skip_h1_title": true,
   "title_cell": "Содержание",
   "title_sidebar": "Contents",
   "toc_cell": true,
   "toc_position": {},
   "toc_section_display": true,
   "toc_window_display": true
  }
 },
 "nbformat": 4,
 "nbformat_minor": 2
}
